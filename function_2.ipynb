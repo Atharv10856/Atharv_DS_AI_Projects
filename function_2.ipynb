{
 "cells": [
  {
   "cell_type": "code",
   "execution_count": 3,
   "id": "5871e127-d1d6-4b2d-9f6e-087e054703cc",
   "metadata": {},
   "outputs": [],
   "source": [
    "def test():\n",
    "    print('Hello this my test function')"
   ]
  },
  {
   "cell_type": "code",
   "execution_count": 4,
   "id": "5cd0966e-6646-4b7f-a96b-824e30201873",
   "metadata": {},
   "outputs": [
    {
     "name": "stdout",
     "output_type": "stream",
     "text": [
      "Hello this my test function\n"
     ]
    }
   ],
   "source": [
    "test()"
   ]
  },
  {
   "cell_type": "code",
   "execution_count": 5,
   "id": "968d2da1-3f9b-44b7-b704-711328ec8139",
   "metadata": {},
   "outputs": [],
   "source": [
    "def name():\n",
    "    print('This is my name function')"
   ]
  },
  {
   "cell_type": "code",
   "execution_count": 6,
   "id": "5e8eaa72-e6c0-4eae-b7ca-05070113d5a3",
   "metadata": {},
   "outputs": [
    {
     "name": "stdout",
     "output_type": "stream",
     "text": [
      "This is my name function\n"
     ]
    }
   ],
   "source": [
    "name()"
   ]
  },
  {
   "cell_type": "code",
   "execution_count": 9,
   "id": "1c23a4e5-7654-4e6d-b04e-3b6680968ee2",
   "metadata": {},
   "outputs": [],
   "source": [
    "def test2():\n",
    "    '''This is my test 2 function.\n",
    "    This will just print output'''\n",
    "    print('Hello')"
   ]
  },
  {
   "cell_type": "code",
   "execution_count": null,
   "id": "9a334c53-2305-4167-94e8-8dd70e9c1405",
   "metadata": {},
   "outputs": [],
   "source": [
    "len()"
   ]
  },
  {
   "cell_type": "code",
   "execution_count": 14,
   "id": "2d2774b2-3c03-44dd-a484-d9de74814042",
   "metadata": {},
   "outputs": [
    {
     "name": "stdout",
     "output_type": "stream",
     "text": [
      "Hello\n"
     ]
    }
   ],
   "source": [
    "test2() # shift + tab"
   ]
  },
  {
   "cell_type": "code",
   "execution_count": 22,
   "id": "fe81938f-a961-4084-8d43-fbac44fe37cd",
   "metadata": {},
   "outputs": [],
   "source": [
    "def test3(a):\n",
    "    print(a)"
   ]
  },
  {
   "cell_type": "code",
   "execution_count": 23,
   "id": "de9a6970-3e52-412d-a90d-10bf2beb2c08",
   "metadata": {},
   "outputs": [
    {
     "name": "stdout",
     "output_type": "stream",
     "text": [
      "5\n"
     ]
    }
   ],
   "source": [
    "test3(5)"
   ]
  },
  {
   "cell_type": "code",
   "execution_count": 24,
   "id": "64275ad9-3cd1-4a8c-99c0-df871ea9b012",
   "metadata": {},
   "outputs": [
    {
     "name": "stdout",
     "output_type": "stream",
     "text": [
      "Hello world\n"
     ]
    }
   ],
   "source": [
    "test3('Hello world')"
   ]
  },
  {
   "cell_type": "code",
   "execution_count": 28,
   "id": "c1ed91c5-5eb9-4fd6-9e15-09e5982349c2",
   "metadata": {},
   "outputs": [],
   "source": [
    "def add(a,b):\n",
    "    print(a + b)"
   ]
  },
  {
   "cell_type": "code",
   "execution_count": 30,
   "id": "0822c77c-7b03-4dc5-9385-6414b8bfd581",
   "metadata": {},
   "outputs": [
    {
     "name": "stdout",
     "output_type": "stream",
     "text": [
      "15\n"
     ]
    }
   ],
   "source": [
    "add(10,5)"
   ]
  },
  {
   "cell_type": "code",
   "execution_count": 32,
   "id": "b3fae1e9-d2a1-4d61-bde6-7e2b13f5ad55",
   "metadata": {},
   "outputs": [
    {
     "name": "stdout",
     "output_type": "stream",
     "text": [
      "HelloWorld\n"
     ]
    }
   ],
   "source": [
    "add('Hello' , 'World')"
   ]
  },
  {
   "cell_type": "code",
   "execution_count": 33,
   "id": "4dd02eb4-c3d6-4042-a1e3-bc2878535605",
   "metadata": {},
   "outputs": [],
   "source": [
    "# Square of number"
   ]
  },
  {
   "cell_type": "code",
   "execution_count": 34,
   "id": "466e95aa-a100-4458-9d18-f0ab0e108ae3",
   "metadata": {},
   "outputs": [
    {
     "data": {
      "text/plain": [
       "2"
      ]
     },
     "execution_count": 34,
     "metadata": {},
     "output_type": "execute_result"
    }
   ],
   "source": [
    "2"
   ]
  },
  {
   "cell_type": "code",
   "execution_count": 35,
   "id": "ef2299a5-9054-4032-b747-f186788007ee",
   "metadata": {},
   "outputs": [
    {
     "data": {
      "text/plain": [
       "4"
      ]
     },
     "execution_count": 35,
     "metadata": {},
     "output_type": "execute_result"
    }
   ],
   "source": [
    "2 * 2"
   ]
  },
  {
   "cell_type": "code",
   "execution_count": 36,
   "id": "608986c1-6d66-4463-9720-a0a7c1ce1393",
   "metadata": {},
   "outputs": [
    {
     "data": {
      "text/plain": [
       "9"
      ]
     },
     "execution_count": 36,
     "metadata": {},
     "output_type": "execute_result"
    }
   ],
   "source": [
    "3 * 3"
   ]
  },
  {
   "cell_type": "code",
   "execution_count": 37,
   "id": "4292d792-4968-4891-a903-d91a5cb49e13",
   "metadata": {},
   "outputs": [
    {
     "data": {
      "text/plain": [
       "16"
      ]
     },
     "execution_count": 37,
     "metadata": {},
     "output_type": "execute_result"
    }
   ],
   "source": [
    "4 * 4"
   ]
  },
  {
   "cell_type": "code",
   "execution_count": 38,
   "id": "95920426-4f5a-4632-9490-715ae6822a03",
   "metadata": {},
   "outputs": [
    {
     "data": {
      "text/plain": [
       "25"
      ]
     },
     "execution_count": 38,
     "metadata": {},
     "output_type": "execute_result"
    }
   ],
   "source": [
    "5 * 5"
   ]
  },
  {
   "cell_type": "code",
   "execution_count": 39,
   "id": "0df92cb4-8ffb-456f-86bd-39bf61f43655",
   "metadata": {},
   "outputs": [],
   "source": [
    "a = 5"
   ]
  },
  {
   "cell_type": "code",
   "execution_count": 40,
   "id": "63602b30-93e2-4fb7-83ea-2f9b29183997",
   "metadata": {},
   "outputs": [
    {
     "data": {
      "text/plain": [
       "25"
      ]
     },
     "execution_count": 40,
     "metadata": {},
     "output_type": "execute_result"
    }
   ],
   "source": [
    "a * a"
   ]
  },
  {
   "cell_type": "code",
   "execution_count": 41,
   "id": "34faae4c-0a13-4015-972f-798928f76dcb",
   "metadata": {},
   "outputs": [],
   "source": [
    "def square(a):\n",
    "    print(a * a)"
   ]
  },
  {
   "cell_type": "code",
   "execution_count": 42,
   "id": "701add5e-c482-462e-a767-778b57d52ff5",
   "metadata": {},
   "outputs": [
    {
     "name": "stdout",
     "output_type": "stream",
     "text": [
      "81\n"
     ]
    }
   ],
   "source": [
    "square(9)"
   ]
  },
  {
   "cell_type": "code",
   "execution_count": 43,
   "id": "5df97cb4-6991-492a-9bb8-72f6ed808ddc",
   "metadata": {},
   "outputs": [
    {
     "name": "stdout",
     "output_type": "stream",
     "text": [
      "25\n"
     ]
    }
   ],
   "source": [
    "square(5)"
   ]
  },
  {
   "cell_type": "code",
   "execution_count": 44,
   "id": "8b0e690f-deb4-4dba-85b4-4c25f407ce8c",
   "metadata": {},
   "outputs": [
    {
     "name": "stdout",
     "output_type": "stream",
     "text": [
      "144\n"
     ]
    }
   ],
   "source": [
    "square(12)"
   ]
  },
  {
   "cell_type": "code",
   "execution_count": 45,
   "id": "7a418f2a-46a5-481a-96ea-852ffcc66972",
   "metadata": {},
   "outputs": [],
   "source": [
    "# Even or odd"
   ]
  },
  {
   "cell_type": "code",
   "execution_count": 49,
   "id": "7023e204-96b3-458d-bddb-67367fbf7ff9",
   "metadata": {},
   "outputs": [],
   "source": [
    "def even_odd(a):\n",
    "    if a % 2 == 0:\n",
    "       print('Even')\n",
    "    else:\n",
    "       print('Odd')"
   ]
  },
  {
   "cell_type": "code",
   "execution_count": 59,
   "id": "5a63e110-de51-4c5f-8f4e-a5123d38f0ea",
   "metadata": {},
   "outputs": [
    {
     "name": "stdout",
     "output_type": "stream",
     "text": [
      "Even\n"
     ]
    }
   ],
   "source": [
    "even_odd(2)"
   ]
  },
  {
   "cell_type": "code",
   "execution_count": 58,
   "id": "10ea9ee8-bd2f-4c73-b16c-1900d482dbd8",
   "metadata": {},
   "outputs": [
    {
     "name": "stdout",
     "output_type": "stream",
     "text": [
      "Odd\n"
     ]
    }
   ],
   "source": [
    "even_odd(5)"
   ]
  },
  {
   "cell_type": "code",
   "execution_count": 67,
   "id": "4fdeba76-e1bb-43af-af9e-76dbfc5fbff4",
   "metadata": {},
   "outputs": [],
   "source": [
    "def palindrom(a):\n",
    "    if a == a[::-1]:\n",
    "       print('Palindrom', a)\n",
    "    else:\n",
    "       print('Not Palindrom')"
   ]
  },
  {
   "cell_type": "code",
   "execution_count": 62,
   "id": "8169ed5d-8783-4ac7-9539-9e7bcbe0eb0a",
   "metadata": {},
   "outputs": [],
   "source": [
    "a = 'mom'"
   ]
  },
  {
   "cell_type": "code",
   "execution_count": 63,
   "id": "d21f4081-00d5-4ec5-8d6f-6615aed5771c",
   "metadata": {},
   "outputs": [
    {
     "data": {
      "text/plain": [
       "'mom'"
      ]
     },
     "execution_count": 63,
     "metadata": {},
     "output_type": "execute_result"
    }
   ],
   "source": [
    "a[::-1]"
   ]
  },
  {
   "cell_type": "code",
   "execution_count": 65,
   "id": "38f539c8-5dc5-475a-8d27-36039b0a5056",
   "metadata": {},
   "outputs": [
    {
     "data": {
      "text/plain": [
       "True"
      ]
     },
     "execution_count": 65,
     "metadata": {},
     "output_type": "execute_result"
    }
   ],
   "source": [
    "a == a[::-1]"
   ]
  },
  {
   "cell_type": "code",
   "execution_count": 68,
   "id": "4d345d72-6351-49b2-97f4-6c30310c5468",
   "metadata": {},
   "outputs": [
    {
     "name": "stdout",
     "output_type": "stream",
     "text": [
      "Palindrom mom\n"
     ]
    }
   ],
   "source": [
    "palindrom('mom')"
   ]
  },
  {
   "cell_type": "code",
   "execution_count": 69,
   "id": "f1306f7b-3e21-4eb8-9a84-ed2bfe31fb58",
   "metadata": {},
   "outputs": [
    {
     "name": "stdout",
     "output_type": "stream",
     "text": [
      "Not Palindrom\n"
     ]
    }
   ],
   "source": [
    "palindrom('car')"
   ]
  },
  {
   "cell_type": "code",
   "execution_count": 70,
   "id": "55096649-4882-4066-a7c1-0d18037e6b4c",
   "metadata": {},
   "outputs": [
    {
     "name": "stdout",
     "output_type": "stream",
     "text": [
      "Palindrom level\n"
     ]
    }
   ],
   "source": [
    "palindrom('level')"
   ]
  },
  {
   "cell_type": "code",
   "execution_count": 71,
   "id": "8dc47483-b132-49fc-99ec-614e5101d50c",
   "metadata": {},
   "outputs": [],
   "source": [
    "# What is diff b/w print and return\n",
    "print is just showcasing values. --> Nonetype\n",
    "Return will write down actual data type --> Actual data type"
   ]
  },
  {
   "cell_type": "code",
   "execution_count": 72,
   "id": "dec4d60a-555a-4231-b34c-01d7d97d84c0",
   "metadata": {},
   "outputs": [
    {
     "name": "stdout",
     "output_type": "stream",
     "text": [
      "Even\n"
     ]
    }
   ],
   "source": [
    "even_odd(6)"
   ]
  },
  {
   "cell_type": "code",
   "execution_count": 73,
   "id": "3112292b-8e03-434c-9174-800f58523efe",
   "metadata": {},
   "outputs": [
    {
     "name": "stdout",
     "output_type": "stream",
     "text": [
      "Even\n"
     ]
    },
    {
     "data": {
      "text/plain": [
       "NoneType"
      ]
     },
     "execution_count": 73,
     "metadata": {},
     "output_type": "execute_result"
    }
   ],
   "source": [
    "type(even_odd(6))"
   ]
  },
  {
   "cell_type": "code",
   "execution_count": 74,
   "id": "0f6e43d7-cdbf-4366-9c29-ec29688e2c8d",
   "metadata": {},
   "outputs": [
    {
     "name": "stdout",
     "output_type": "stream",
     "text": [
      "5\n"
     ]
    }
   ],
   "source": [
    "add(1,4)"
   ]
  },
  {
   "cell_type": "code",
   "execution_count": 76,
   "id": "62c713ce-64b8-4780-a6b4-50f5a14a2435",
   "metadata": {},
   "outputs": [
    {
     "name": "stdout",
     "output_type": "stream",
     "text": [
      "5\n"
     ]
    },
    {
     "data": {
      "text/plain": [
       "NoneType"
      ]
     },
     "execution_count": 76,
     "metadata": {},
     "output_type": "execute_result"
    }
   ],
   "source": [
    "type(add(1,4))"
   ]
  },
  {
   "cell_type": "code",
   "execution_count": 77,
   "id": "ab7157f4-3fac-4450-a9d5-56e1305de9d9",
   "metadata": {},
   "outputs": [],
   "source": [
    "def test6(a,b):\n",
    "    return a + b"
   ]
  },
  {
   "cell_type": "code",
   "execution_count": 78,
   "id": "ebeb9cb3-b7e5-4d3b-9245-06531cc4cb18",
   "metadata": {},
   "outputs": [
    {
     "data": {
      "text/plain": [
       "6"
      ]
     },
     "execution_count": 78,
     "metadata": {},
     "output_type": "execute_result"
    }
   ],
   "source": [
    "test6(1,5)"
   ]
  },
  {
   "cell_type": "code",
   "execution_count": 79,
   "id": "5d1e931c-0782-4776-bd25-49ccd6579baf",
   "metadata": {},
   "outputs": [
    {
     "data": {
      "text/plain": [
       "int"
      ]
     },
     "execution_count": 79,
     "metadata": {},
     "output_type": "execute_result"
    }
   ],
   "source": [
    "type(test6(1,5))"
   ]
  },
  {
   "cell_type": "code",
   "execution_count": 80,
   "id": "721cc6c9-b475-4bd9-81d3-3feca4ea1a14",
   "metadata": {},
   "outputs": [
    {
     "name": "stdout",
     "output_type": "stream",
     "text": [
      "Hello\n"
     ]
    }
   ],
   "source": [
    "print('Hello')"
   ]
  },
  {
   "cell_type": "code",
   "execution_count": 81,
   "id": "a5b3e404-8d32-4dbd-ae77-6b190add8e0f",
   "metadata": {},
   "outputs": [],
   "source": [
    "def data_filter(a):\n",
    "    if type(a) == int:\n",
    "        return 'Data type is int', a\n",
    "    else:\n",
    "        return 'Your data is not INT data Types'"
   ]
  },
  {
   "cell_type": "code",
   "execution_count": 84,
   "id": "db0c64dc-9d26-4b82-b6ff-24e43f9f69e2",
   "metadata": {},
   "outputs": [
    {
     "data": {
      "text/plain": [
       "'Your data is not INT data Types'"
      ]
     },
     "execution_count": 84,
     "metadata": {},
     "output_type": "execute_result"
    }
   ],
   "source": [
    "data_filter('H')"
   ]
  },
  {
   "cell_type": "code",
   "execution_count": 90,
   "id": "b56536fc-5933-4045-8e9a-add03596545a",
   "metadata": {},
   "outputs": [
    {
     "data": {
      "text/plain": [
       "('Data type is int', 5)"
      ]
     },
     "execution_count": 90,
     "metadata": {},
     "output_type": "execute_result"
    }
   ],
   "source": [
    "data_filter(5)"
   ]
  },
  {
   "cell_type": "code",
   "execution_count": 93,
   "id": "e700c34d-0481-48e3-8c18-7861b90ddb36",
   "metadata": {},
   "outputs": [],
   "source": [
    "def test9(a,z,e,r):\n",
    "    return a,z,e,r"
   ]
  },
  {
   "cell_type": "code",
   "execution_count": 94,
   "id": "b6b3018d-10e7-493e-934e-4a478cd04b9f",
   "metadata": {},
   "outputs": [
    {
     "data": {
      "text/plain": [
       "(1, 3, 5, 7)"
      ]
     },
     "execution_count": 94,
     "metadata": {},
     "output_type": "execute_result"
    }
   ],
   "source": [
    "test9(1,3,5,7)"
   ]
  },
  {
   "cell_type": "code",
   "execution_count": 95,
   "id": "b2adb219-f7fc-4882-959f-32877ed3e5e4",
   "metadata": {},
   "outputs": [],
   "source": [
    "# N number of arguments"
   ]
  },
  {
   "cell_type": "code",
   "execution_count": 97,
   "id": "b4ffd395-5207-40bc-8250-818ac99608fa",
   "metadata": {},
   "outputs": [],
   "source": [
    "def test10(*args):\n",
    "    return args"
   ]
  },
  {
   "cell_type": "code",
   "execution_count": 98,
   "id": "27755f88-8ec5-474a-aa7a-e4751b983c90",
   "metadata": {},
   "outputs": [
    {
     "data": {
      "text/plain": [
       "(1, 3, 4, 2, 4, 'hello', True)"
      ]
     },
     "execution_count": 98,
     "metadata": {},
     "output_type": "execute_result"
    }
   ],
   "source": [
    "test10(1,3,4,2,4,'hello',True)"
   ]
  },
  {
   "cell_type": "code",
   "execution_count": 100,
   "id": "fbc586b5-3da0-4556-beea-a9bfb054db32",
   "metadata": {},
   "outputs": [],
   "source": [
    "def test11(*args):\n",
    "    l = []\n",
    "    for i in args:\n",
    "       if type(i) == int:\n",
    "           l.append(i)\n",
    "    return l"
   ]
  },
  {
   "cell_type": "code",
   "execution_count": 101,
   "id": "03b29438-7cde-4098-beb2-aab0b39410af",
   "metadata": {},
   "outputs": [
    {
     "data": {
      "text/plain": [
       "[1, 3, 4, 2, 4]"
      ]
     },
     "execution_count": 101,
     "metadata": {},
     "output_type": "execute_result"
    }
   ],
   "source": [
    "test11(1,3,4,2,4,'hello',True)\n"
   ]
  },
  {
   "cell_type": "code",
   "execution_count": 102,
   "id": "5f836055-2427-4f68-9668-bd094f1bcc5c",
   "metadata": {},
   "outputs": [
    {
     "ename": "NameError",
     "evalue": "name 'l' is not defined",
     "output_type": "error",
     "traceback": [
      "\u001b[1;31m---------------------------------------------------------------------------\u001b[0m",
      "\u001b[1;31mNameError\u001b[0m                                 Traceback (most recent call last)",
      "Cell \u001b[1;32mIn[102], line 1\u001b[0m\n\u001b[1;32m----> 1\u001b[0m l\n",
      "\u001b[1;31mNameError\u001b[0m: name 'l' is not defined"
     ]
    }
   ],
   "source": [
    "l"
   ]
  },
  {
   "cell_type": "code",
   "execution_count": 103,
   "id": "1d68c5db-7645-468b-b8dc-e0ec31348dac",
   "metadata": {},
   "outputs": [],
   "source": [
    "# What is local and global variable"
   ]
  },
  {
   "cell_type": "code",
   "execution_count": 104,
   "id": "62ad9cab-3341-4cf4-ba98-1545ba771f2f",
   "metadata": {},
   "outputs": [],
   "source": [
    "k = [1,4,3] # Globally"
   ]
  },
  {
   "cell_type": "code",
   "execution_count": 105,
   "id": "881ecd72-bb14-4d90-9bdc-974df68eb649",
   "metadata": {},
   "outputs": [
    {
     "data": {
      "text/plain": [
       "[1, 4, 3]"
      ]
     },
     "execution_count": 105,
     "metadata": {},
     "output_type": "execute_result"
    }
   ],
   "source": [
    "k"
   ]
  },
  {
   "cell_type": "code",
   "execution_count": 106,
   "id": "885fb96c-cf21-46e7-95f9-42669a2d45a2",
   "metadata": {},
   "outputs": [],
   "source": [
    "def test13(*args):\n",
    "    l = [] # Local variable\n",
    "    for i in args:\n",
    "        l.append(i)\n",
    "    return l"
   ]
  },
  {
   "cell_type": "code",
   "execution_count": 107,
   "id": "df4aec78-f50c-4dd8-a449-701dcd816669",
   "metadata": {},
   "outputs": [
    {
     "data": {
      "text/plain": [
       "[1, 5, 'f', 'o', 'u', 'r']"
      ]
     },
     "execution_count": 107,
     "metadata": {},
     "output_type": "execute_result"
    }
   ],
   "source": [
    "test13(1,5,'f','o','u','r')\n"
   ]
  },
  {
   "cell_type": "code",
   "execution_count": 108,
   "id": "69fd9c41-a02e-4ae4-806f-509f958d6f0f",
   "metadata": {},
   "outputs": [
    {
     "ename": "NameError",
     "evalue": "name 'l' is not defined",
     "output_type": "error",
     "traceback": [
      "\u001b[1;31m---------------------------------------------------------------------------\u001b[0m",
      "\u001b[1;31mNameError\u001b[0m                                 Traceback (most recent call last)",
      "Cell \u001b[1;32mIn[108], line 1\u001b[0m\n\u001b[1;32m----> 1\u001b[0m l\n",
      "\u001b[1;31mNameError\u001b[0m: name 'l' is not defined"
     ]
    }
   ],
   "source": [
    "l"
   ]
  },
  {
   "cell_type": "code",
   "execution_count": null,
   "id": "9e0a3b57-7128-4e74-8382-d3635d32d4b4",
   "metadata": {},
   "outputs": [],
   "source": [
    "# Write a function for filltering out int data type and then preform addition of that dataset.(*args)\n"
   ]
  },
  {
   "cell_type": "code",
   "execution_count": 109,
   "id": "6df82c0f-20b5-4f39-a0c3-e3070494f85b",
   "metadata": {},
   "outputs": [
    {
     "data": {
      "text/plain": [
       "<function sum(iterable, /, start=0)>"
      ]
     },
     "execution_count": 109,
     "metadata": {},
     "output_type": "execute_result"
    }
   ],
   "source": [
    "sum"
   ]
  },
  {
   "cell_type": "code",
   "execution_count": null,
   "id": "1657a71c-0a86-4b7b-85d1-72085d8b1e25",
   "metadata": {},
   "outputs": [],
   "source": []
  }
 ],
 "metadata": {
  "kernelspec": {
   "display_name": "Python 3 (ipykernel)",
   "language": "python",
   "name": "python3"
  },
  "language_info": {
   "codemirror_mode": {
    "name": "ipython",
    "version": 3
   },
   "file_extension": ".py",
   "mimetype": "text/x-python",
   "name": "python",
   "nbconvert_exporter": "python",
   "pygments_lexer": "ipython3",
   "version": "3.12.7"
  }
 },
 "nbformat": 4,
 "nbformat_minor": 5
}
