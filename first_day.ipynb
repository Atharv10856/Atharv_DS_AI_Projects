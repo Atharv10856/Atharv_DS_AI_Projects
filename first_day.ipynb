{
 "cells": [
  {
   "cell_type": "code",
   "execution_count": 1,
   "id": "6b13f6f7-0afd-4802-8764-6da0c769527e",
   "metadata": {},
   "outputs": [
    {
     "data": {
      "text/plain": [
       "15"
      ]
     },
     "execution_count": 1,
     "metadata": {},
     "output_type": "execute_result"
    }
   ],
   "source": [
    "10 + 5"
   ]
  },
  {
   "cell_type": "markdown",
   "id": "0c70b004-3120-423a-aef7-7863c2062e23",
   "metadata": {},
   "source": [
    "# This is my first day"
   ]
  },
  {
   "cell_type": "markdown",
   "id": "c2458f3c-fc04-4235-a0cb-8c73732e646e",
   "metadata": {},
   "source": [
    "Today we are going to learn python."
   ]
  },
  {
   "cell_type": "code",
   "execution_count": 2,
   "id": "d81e0584-7d3f-421d-860c-028c6dc80ee5",
   "metadata": {},
   "outputs": [
    {
     "data": {
      "text/plain": [
       "80"
      ]
     },
     "execution_count": 2,
     "metadata": {},
     "output_type": "execute_result"
    }
   ],
   "source": [
    "10 * 8"
   ]
  },
  {
   "cell_type": "code",
   "execution_count": null,
   "id": "304a23f9-c74b-4653-b79c-54a27a20a2ab",
   "metadata": {},
   "outputs": [],
   "source": []
  }
 ],
 "metadata": {
  "kernelspec": {
   "display_name": "Python 3 (ipykernel)",
   "language": "python",
   "name": "python3"
  },
  "language_info": {
   "codemirror_mode": {
    "name": "ipython",
    "version": 3
   },
   "file_extension": ".py",
   "mimetype": "text/x-python",
   "name": "python",
   "nbconvert_exporter": "python",
   "pygments_lexer": "ipython3",
   "version": "3.12.7"
  }
 },
 "nbformat": 4,
 "nbformat_minor": 5
}
