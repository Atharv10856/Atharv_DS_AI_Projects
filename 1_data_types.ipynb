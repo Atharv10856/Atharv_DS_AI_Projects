{
 "cells": [
  {
   "cell_type": "markdown",
   "id": "5b2fb67f-8c0c-4a77-969d-3012fda81b96",
   "metadata": {},
   "source": [
    "# Int"
   ]
  },
  {
   "cell_type": "markdown",
   "id": "450b092c-c2aa-4156-85a3-6619a38c796e",
   "metadata": {},
   "source": [
    "Complete Number"
   ]
  },
  {
   "cell_type": "raw",
   "id": "ccf7dd4b-43f4-42e1-b92c-99a2c596e493",
   "metadata": {},
   "source": [
    "Eg:\n",
    "No of family members\n",
    "--> 5,3,2\n",
    "\n",
    "Eg:\n",
    "No of bank accounts\n",
    "--> 1,2,3"
   ]
  },
  {
   "cell_type": "code",
   "execution_count": 2,
   "id": "9748d87c-cf5c-4195-b4a2-b2cfd8392be8",
   "metadata": {},
   "outputs": [
    {
     "data": {
      "text/plain": [
       "5"
      ]
     },
     "execution_count": 2,
     "metadata": {},
     "output_type": "execute_result"
    }
   ],
   "source": [
    "5"
   ]
  },
  {
   "cell_type": "code",
   "execution_count": 3,
   "id": "6ec01aa9-8c31-4f30-b475-525ad8415dec",
   "metadata": {},
   "outputs": [
    {
     "data": {
      "text/plain": [
       "int"
      ]
     },
     "execution_count": 3,
     "metadata": {},
     "output_type": "execute_result"
    }
   ],
   "source": [
    "type(5)"
   ]
  },
  {
   "cell_type": "code",
   "execution_count": 4,
   "id": "794598b7-3465-4a77-b0a3-df8f3071e698",
   "metadata": {},
   "outputs": [
    {
     "data": {
      "text/plain": [
       "int"
      ]
     },
     "execution_count": 4,
     "metadata": {},
     "output_type": "execute_result"
    }
   ],
   "source": [
    "type(424)"
   ]
  },
  {
   "cell_type": "markdown",
   "id": "1b2c003d-1d49-4255-be06-2d645180bb11",
   "metadata": {},
   "source": [
    "# Float"
   ]
  },
  {
   "cell_type": "markdown",
   "id": "11844a62-11d5-4747-b8c8-2bfb2e581dd3",
   "metadata": {},
   "source": [
    "Values in decimal format"
   ]
  },
  {
   "cell_type": "raw",
   "id": "8e93c5f3-13ab-44a1-8e53-97ff31f1f51c",
   "metadata": {},
   "source": [
    "Eg:\n",
    "Weight\n",
    "-->54.330\n",
    "Height\n",
    "-->5.3"
   ]
  },
  {
   "cell_type": "code",
   "execution_count": 5,
   "id": "0fd071c0-c50c-4097-b0b0-c7a6f454f891",
   "metadata": {},
   "outputs": [
    {
     "data": {
      "text/plain": [
       "54.33"
      ]
     },
     "execution_count": 5,
     "metadata": {},
     "output_type": "execute_result"
    }
   ],
   "source": [
    "54.330"
   ]
  },
  {
   "cell_type": "code",
   "execution_count": 6,
   "id": "b5fff7df-0c4a-4d55-b776-17d34af0ba38",
   "metadata": {},
   "outputs": [
    {
     "data": {
      "text/plain": [
       "float"
      ]
     },
     "execution_count": 6,
     "metadata": {},
     "output_type": "execute_result"
    }
   ],
   "source": [
    "type(54.330)"
   ]
  },
  {
   "cell_type": "code",
   "execution_count": 7,
   "id": "9a228cea-aa45-4604-b262-42b383188ac0",
   "metadata": {},
   "outputs": [
    {
     "data": {
      "text/plain": [
       "float"
      ]
     },
     "execution_count": 7,
     "metadata": {},
     "output_type": "execute_result"
    }
   ],
   "source": [
    "type(5.3)"
   ]
  },
  {
   "cell_type": "markdown",
   "id": "cb6cba70-ea93-4fe5-be04-d3c7d19f60f7",
   "metadata": {},
   "source": [
    "# Complex Numbers"
   ]
  },
  {
   "cell_type": "markdown",
   "id": "fdfe211d-8f1e-49b6-a452-76b9c1fe9ce6",
   "metadata": {},
   "source": [
    "Vector values"
   ]
  },
  {
   "cell_type": "code",
   "execution_count": 8,
   "id": "94b7efa5-02ce-48c3-8d86-30efe282c613",
   "metadata": {},
   "outputs": [
    {
     "data": {
      "text/plain": [
       "(10+5j)"
      ]
     },
     "execution_count": 8,
     "metadata": {},
     "output_type": "execute_result"
    }
   ],
   "source": [
    "10 + 5j"
   ]
  },
  {
   "cell_type": "code",
   "execution_count": 9,
   "id": "507cb85e-f33b-4dcc-ac4e-a7e196f6116b",
   "metadata": {},
   "outputs": [
    {
     "data": {
      "text/plain": [
       "complex"
      ]
     },
     "execution_count": 9,
     "metadata": {},
     "output_type": "execute_result"
    }
   ],
   "source": [
    "type(10+5j)"
   ]
  },
  {
   "cell_type": "markdown",
   "id": "6e35f062-d5fe-49fa-84dd-ee694b4ced78",
   "metadata": {},
   "source": [
    "# string"
   ]
  },
  {
   "cell_type": "code",
   "execution_count": 11,
   "id": "a87b813a-054b-4bae-86df-386b36df11c9",
   "metadata": {},
   "outputs": [
    {
     "data": {
      "text/plain": [
       "'Hello'"
      ]
     },
     "execution_count": 11,
     "metadata": {},
     "output_type": "execute_result"
    }
   ],
   "source": [
    "'Hello'"
   ]
  },
  {
   "cell_type": "code",
   "execution_count": 13,
   "id": "249d2767-c2ec-4740-8948-f017f70ae1cd",
   "metadata": {},
   "outputs": [
    {
     "data": {
      "text/plain": [
       "'Hello Python'"
      ]
     },
     "execution_count": 13,
     "metadata": {},
     "output_type": "execute_result"
    }
   ],
   "source": [
    "\"Hello Python\""
   ]
  },
  {
   "cell_type": "code",
   "execution_count": 16,
   "id": "98ceb9ea-a55b-4af8-95c4-608f3430f3db",
   "metadata": {},
   "outputs": [
    {
     "data": {
      "text/plain": [
       "'This is my first line.\\nThis is my second line.\\nThis is my third line.'"
      ]
     },
     "execution_count": 16,
     "metadata": {},
     "output_type": "execute_result"
    }
   ],
   "source": [
    "\"\"\"This is my first line.\n",
    "This is my second line.\n",
    "This is my third line.\"\"\""
   ]
  },
  {
   "cell_type": "code",
   "execution_count": 17,
   "id": "b5819942-0efb-468b-9607-369dcbf7c3d0",
   "metadata": {},
   "outputs": [
    {
     "name": "stdout",
     "output_type": "stream",
     "text": [
      "This is my first line.\n",
      "This is my second line.\n",
      "This is my third line.\n"
     ]
    }
   ],
   "source": [
    "print(\"\"\"This is my first line.\n",
    "This is my second line.\n",
    "This is my third line.\"\"\")"
   ]
  },
  {
   "cell_type": "markdown",
   "id": "e3b3f0f1-2e44-4fad-a313-e5331e785169",
   "metadata": {},
   "source": [
    "# Boolean"
   ]
  },
  {
   "cell_type": "markdown",
   "id": "def50b3f-fcf8-4df0-807d-b10d65e4f695",
   "metadata": {},
   "source": [
    "True or false"
   ]
  },
  {
   "cell_type": "code",
   "execution_count": 18,
   "id": "44c98232-dffd-471a-bdc7-7443f5fc46b9",
   "metadata": {},
   "outputs": [
    {
     "data": {
      "text/plain": [
       "True"
      ]
     },
     "execution_count": 18,
     "metadata": {},
     "output_type": "execute_result"
    }
   ],
   "source": [
    "10 > 5"
   ]
  },
  {
   "cell_type": "code",
   "execution_count": null,
   "id": "a907d51d-ca60-4fb1-b7dd-c2065e1da757",
   "metadata": {},
   "outputs": [],
   "source": []
  }
 ],
 "metadata": {
  "kernelspec": {
   "display_name": "Python 3 (ipykernel)",
   "language": "python",
   "name": "python3"
  },
  "language_info": {
   "codemirror_mode": {
    "name": "ipython",
    "version": 3
   },
   "file_extension": ".py",
   "mimetype": "text/x-python",
   "name": "python",
   "nbconvert_exporter": "python",
   "pygments_lexer": "ipython3",
   "version": "3.12.7"
  }
 },
 "nbformat": 4,
 "nbformat_minor": 5
}
