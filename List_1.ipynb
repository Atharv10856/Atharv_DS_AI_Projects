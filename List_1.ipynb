{
 "cells": [
  {
   "cell_type": "code",
   "execution_count": 1,
   "id": "5f1344ae-9fac-4bed-98e4-a3c0413c770c",
   "metadata": {},
   "outputs": [],
   "source": [
    "l = [1,2,3,4,5]"
   ]
  },
  {
   "cell_type": "code",
   "execution_count": 2,
   "id": "3f7bb034-038a-462d-8d3e-0588a9464bfd",
   "metadata": {},
   "outputs": [
    {
     "data": {
      "text/plain": [
       "[1, 2, 3, 4, 5]"
      ]
     },
     "execution_count": 2,
     "metadata": {},
     "output_type": "execute_result"
    }
   ],
   "source": [
    "l"
   ]
  },
  {
   "cell_type": "code",
   "execution_count": 3,
   "id": "14181278-a0a9-494a-a06c-8f52818d5f44",
   "metadata": {},
   "outputs": [
    {
     "data": {
      "text/plain": [
       "int"
      ]
     },
     "execution_count": 3,
     "metadata": {},
     "output_type": "execute_result"
    }
   ],
   "source": [
    "type(1)"
   ]
  },
  {
   "cell_type": "code",
   "execution_count": 4,
   "id": "f32063ca-c82b-4945-9b2d-6a3fa2ffd323",
   "metadata": {},
   "outputs": [],
   "source": [
    "mix = [12, 1.5, (10+5), 'Hello', True]"
   ]
  },
  {
   "cell_type": "code",
   "execution_count": 5,
   "id": "a6954bf6-2bd4-461d-ba92-418c14757d9d",
   "metadata": {},
   "outputs": [
    {
     "data": {
      "text/plain": [
       "[12, 1.5, 15, 'Hello', True]"
      ]
     },
     "execution_count": 5,
     "metadata": {},
     "output_type": "execute_result"
    }
   ],
   "source": [
    "mix"
   ]
  },
  {
   "cell_type": "code",
   "execution_count": 7,
   "id": "a7446aaf-7490-4602-9a8b-826e90186d0c",
   "metadata": {},
   "outputs": [
    {
     "data": {
      "text/plain": [
       "list"
      ]
     },
     "execution_count": 7,
     "metadata": {},
     "output_type": "execute_result"
    }
   ],
   "source": [
    "type(l)"
   ]
  },
  {
   "cell_type": "code",
   "execution_count": 8,
   "id": "b2276f09-2a1e-46bc-a45b-507ff0345b78",
   "metadata": {},
   "outputs": [],
   "source": [
    "names = ['Arbaj', 'Atharv', 'Ajinkya', 'Ayush', 'Alfaaz']"
   ]
  },
  {
   "cell_type": "code",
   "execution_count": 9,
   "id": "b4e8bfef-e3d4-4be7-b9f1-5bdd20e47417",
   "metadata": {},
   "outputs": [
    {
     "data": {
      "text/plain": [
       "['Arbaj', 'Atharv', 'Ajinkya', 'Ayush', 'Alfaaz']"
      ]
     },
     "execution_count": 9,
     "metadata": {},
     "output_type": "execute_result"
    }
   ],
   "source": [
    "names"
   ]
  },
  {
   "cell_type": "code",
   "execution_count": 10,
   "id": "e6feb6c1-9339-4ab1-ac0d-6e034a9efdb7",
   "metadata": {},
   "outputs": [
    {
     "data": {
      "text/plain": [
       "'Ajinkya'"
      ]
     },
     "execution_count": 10,
     "metadata": {},
     "output_type": "execute_result"
    }
   ],
   "source": [
    "names[2]"
   ]
  },
  {
   "cell_type": "code",
   "execution_count": 11,
   "id": "ef9edfe4-d34d-443f-9d73-2fdcd9732ed8",
   "metadata": {},
   "outputs": [
    {
     "data": {
      "text/plain": [
       "'Arbaj'"
      ]
     },
     "execution_count": 11,
     "metadata": {},
     "output_type": "execute_result"
    }
   ],
   "source": [
    "names[0]"
   ]
  },
  {
   "cell_type": "markdown",
   "id": "1d9cc910-e883-4f02-b225-1facff2245ab",
   "metadata": {},
   "source": [
    "# Idexing Operations"
   ]
  },
  {
   "cell_type": "code",
   "execution_count": 12,
   "id": "c375be72-f864-472b-9643-805adc2780b9",
   "metadata": {},
   "outputs": [
    {
     "data": {
      "text/plain": [
       "[12, 1.5, 15, 'Hello', True]"
      ]
     },
     "execution_count": 12,
     "metadata": {},
     "output_type": "execute_result"
    }
   ],
   "source": [
    "mix"
   ]
  },
  {
   "cell_type": "code",
   "execution_count": 13,
   "id": "af1f1902-b163-4600-83e0-20cf0db8fb25",
   "metadata": {},
   "outputs": [
    {
     "data": {
      "text/plain": [
       "'Hello'"
      ]
     },
     "execution_count": 13,
     "metadata": {},
     "output_type": "execute_result"
    }
   ],
   "source": [
    "mix[3]"
   ]
  },
  {
   "cell_type": "code",
   "execution_count": 14,
   "id": "d54a73cf-c285-4fdd-8def-087eabfd331c",
   "metadata": {},
   "outputs": [
    {
     "data": {
      "text/plain": [
       "[1, 2, 3, 4, 5]"
      ]
     },
     "execution_count": 14,
     "metadata": {},
     "output_type": "execute_result"
    }
   ],
   "source": [
    "l"
   ]
  },
  {
   "cell_type": "code",
   "execution_count": 15,
   "id": "5aafa67b-ccd0-4ffe-9c23-411003379bb7",
   "metadata": {},
   "outputs": [
    {
     "data": {
      "text/plain": [
       "5"
      ]
     },
     "execution_count": 15,
     "metadata": {},
     "output_type": "execute_result"
    }
   ],
   "source": [
    "l[4]"
   ]
  },
  {
   "cell_type": "markdown",
   "id": "64d9011a-a642-4004-8198-081fdc63371d",
   "metadata": {},
   "source": [
    "# Change data"
   ]
  },
  {
   "cell_type": "code",
   "execution_count": 16,
   "id": "a3c91d96-095c-4673-b789-8640c9623431",
   "metadata": {},
   "outputs": [
    {
     "data": {
      "text/plain": [
       "['Arbaj', 'Atharv', 'Ajinkya', 'Ayush', 'Alfaaz']"
      ]
     },
     "execution_count": 16,
     "metadata": {},
     "output_type": "execute_result"
    }
   ],
   "source": [
    "names"
   ]
  },
  {
   "cell_type": "code",
   "execution_count": 17,
   "id": "3badbe1e-c778-4213-b31e-5de2ebffc5fe",
   "metadata": {},
   "outputs": [
    {
     "data": {
      "text/plain": [
       "'Ajinkya'"
      ]
     },
     "execution_count": 17,
     "metadata": {},
     "output_type": "execute_result"
    }
   ],
   "source": [
    "names[2]"
   ]
  },
  {
   "cell_type": "code",
   "execution_count": 18,
   "id": "23296fa9-c8c8-436a-9e9e-7d6b3ace407b",
   "metadata": {},
   "outputs": [],
   "source": [
    "names[0] = 'Aditya'"
   ]
  },
  {
   "cell_type": "code",
   "execution_count": 19,
   "id": "af64d15c-a19e-4762-8cf9-9b19b9bdb3d3",
   "metadata": {},
   "outputs": [
    {
     "data": {
      "text/plain": [
       "['Aditya', 'Atharv', 'Ajinkya', 'Ayush', 'Alfaaz']"
      ]
     },
     "execution_count": 19,
     "metadata": {},
     "output_type": "execute_result"
    }
   ],
   "source": [
    "names"
   ]
  },
  {
   "cell_type": "code",
   "execution_count": 20,
   "id": "42d72dfd-a164-4bed-8ab2-fdba1b9ddf2c",
   "metadata": {},
   "outputs": [
    {
     "data": {
      "text/plain": [
       "[12, 1.5, 15, 'Hello', True]"
      ]
     },
     "execution_count": 20,
     "metadata": {},
     "output_type": "execute_result"
    }
   ],
   "source": [
    "mix"
   ]
  },
  {
   "cell_type": "code",
   "execution_count": 21,
   "id": "0a133093-c070-42e5-b73d-93d95028899f",
   "metadata": {},
   "outputs": [
    {
     "data": {
      "text/plain": [
       "1.5"
      ]
     },
     "execution_count": 21,
     "metadata": {},
     "output_type": "execute_result"
    }
   ],
   "source": [
    "mix[1]"
   ]
  },
  {
   "cell_type": "code",
   "execution_count": 22,
   "id": "7cd064f0-490f-4bb1-a0f3-b2a051a29d24",
   "metadata": {},
   "outputs": [],
   "source": [
    "mix[1] = 50.50"
   ]
  },
  {
   "cell_type": "code",
   "execution_count": 23,
   "id": "28cbfbee-794e-402f-b674-e9580869f6f0",
   "metadata": {},
   "outputs": [
    {
     "data": {
      "text/plain": [
       "[12, 50.5, 15, 'Hello', True]"
      ]
     },
     "execution_count": 23,
     "metadata": {},
     "output_type": "execute_result"
    }
   ],
   "source": [
    "mix"
   ]
  },
  {
   "cell_type": "markdown",
   "id": "084cdc5c-0c46-4313-9d71-2516593328f7",
   "metadata": {},
   "source": [
    "# Slicing"
   ]
  },
  {
   "cell_type": "code",
   "execution_count": 24,
   "id": "b179f487-bf6a-4996-960b-f6a411af8699",
   "metadata": {},
   "outputs": [
    {
     "data": {
      "text/plain": [
       "['Aditya', 'Atharv', 'Ajinkya', 'Ayush', 'Alfaaz']"
      ]
     },
     "execution_count": 24,
     "metadata": {},
     "output_type": "execute_result"
    }
   ],
   "source": [
    "names"
   ]
  },
  {
   "cell_type": "code",
   "execution_count": 25,
   "id": "b0ee4ecd-53f6-4ffb-95c4-1e89988932a1",
   "metadata": {},
   "outputs": [
    {
     "data": {
      "text/plain": [
       "['Atharv', 'Ajinkya', 'Ayush']"
      ]
     },
     "execution_count": 25,
     "metadata": {},
     "output_type": "execute_result"
    }
   ],
   "source": [
    "names[1:4]"
   ]
  },
  {
   "cell_type": "code",
   "execution_count": 26,
   "id": "d4cd8daf-9801-47c4-8c57-6e1fa6c16632",
   "metadata": {},
   "outputs": [
    {
     "data": {
      "text/plain": [
       "['Aditya', 'Atharv', 'Ajinkya']"
      ]
     },
     "execution_count": 26,
     "metadata": {},
     "output_type": "execute_result"
    }
   ],
   "source": [
    "names[0:3]"
   ]
  },
  {
   "cell_type": "code",
   "execution_count": 27,
   "id": "c31cf43f-6631-4a51-b019-12612d3dbc27",
   "metadata": {},
   "outputs": [
    {
     "data": {
      "text/plain": [
       "['Ayush', 'Alfaaz']"
      ]
     },
     "execution_count": 27,
     "metadata": {},
     "output_type": "execute_result"
    }
   ],
   "source": [
    "names[3:5]"
   ]
  },
  {
   "cell_type": "code",
   "execution_count": 28,
   "id": "d184427d-d4b0-4881-bee3-855808caad0e",
   "metadata": {},
   "outputs": [
    {
     "data": {
      "text/plain": [
       "['Aditya', 'Atharv', 'Ajinkya', 'Ayush', 'Alfaaz']"
      ]
     },
     "execution_count": 28,
     "metadata": {},
     "output_type": "execute_result"
    }
   ],
   "source": [
    "names"
   ]
  },
  {
   "cell_type": "code",
   "execution_count": 29,
   "id": "56c8d6b2-7826-48e4-8b58-34c831284b54",
   "metadata": {},
   "outputs": [
    {
     "data": {
      "text/plain": [
       "['Aditya', 'Atharv', 'Ajinkya', 'Ayush', 'Alfaaz']"
      ]
     },
     "execution_count": 29,
     "metadata": {},
     "output_type": "execute_result"
    }
   ],
   "source": [
    "names[:]"
   ]
  },
  {
   "cell_type": "code",
   "execution_count": 32,
   "id": "c27ac529-9240-4f9b-8e50-fdfb780798a7",
   "metadata": {},
   "outputs": [
    {
     "data": {
      "text/plain": [
       "['Aditya', 'Atharv', 'Ajinkya']"
      ]
     },
     "execution_count": 32,
     "metadata": {},
     "output_type": "execute_result"
    }
   ],
   "source": [
    "names[:3]"
   ]
  },
  {
   "cell_type": "code",
   "execution_count": 33,
   "id": "bb20ce2b-2974-4af5-b528-bea438e4ccf1",
   "metadata": {},
   "outputs": [
    {
     "data": {
      "text/plain": [
       "['Ajinkya', 'Ayush', 'Alfaaz']"
      ]
     },
     "execution_count": 33,
     "metadata": {},
     "output_type": "execute_result"
    }
   ],
   "source": [
    "names[2:]"
   ]
  },
  {
   "cell_type": "code",
   "execution_count": 34,
   "id": "59948f4a-91f8-4cf5-a1f4-a31d9722876f",
   "metadata": {},
   "outputs": [
    {
     "data": {
      "text/plain": [
       "[12, 50.5, 15, 'Hello', True]"
      ]
     },
     "execution_count": 34,
     "metadata": {},
     "output_type": "execute_result"
    }
   ],
   "source": [
    "mix"
   ]
  },
  {
   "cell_type": "code",
   "execution_count": 35,
   "id": "9b62ae13-e067-4bc1-a6df-cb01756303b6",
   "metadata": {},
   "outputs": [
    {
     "data": {
      "text/plain": [
       "[15, 'Hello', True]"
      ]
     },
     "execution_count": 35,
     "metadata": {},
     "output_type": "execute_result"
    }
   ],
   "source": [
    "mix[2:]"
   ]
  },
  {
   "cell_type": "code",
   "execution_count": 36,
   "id": "9b0af7f2-90aa-49ed-b17d-be8ff36015e2",
   "metadata": {},
   "outputs": [
    {
     "data": {
      "text/plain": [
       "[15, 'Hello']"
      ]
     },
     "execution_count": 36,
     "metadata": {},
     "output_type": "execute_result"
    }
   ],
   "source": [
    "mix[2:4]"
   ]
  },
  {
   "cell_type": "code",
   "execution_count": 37,
   "id": "21712aca-d2ce-434d-bfb2-85b9fbde30f3",
   "metadata": {},
   "outputs": [
    {
     "data": {
      "text/plain": [
       "True"
      ]
     },
     "execution_count": 37,
     "metadata": {},
     "output_type": "execute_result"
    }
   ],
   "source": [
    "mix[4]"
   ]
  },
  {
   "cell_type": "code",
   "execution_count": 38,
   "id": "e3958446-7ed1-48d0-b82e-3b93392c14e9",
   "metadata": {},
   "outputs": [
    {
     "data": {
      "text/plain": [
       "True"
      ]
     },
     "execution_count": 38,
     "metadata": {},
     "output_type": "execute_result"
    }
   ],
   "source": [
    "mix[-1]"
   ]
  },
  {
   "cell_type": "code",
   "execution_count": 39,
   "id": "bea0f950-2185-412a-afef-4734657ed51b",
   "metadata": {},
   "outputs": [
    {
     "data": {
      "text/plain": [
       "'Hello'"
      ]
     },
     "execution_count": 39,
     "metadata": {},
     "output_type": "execute_result"
    }
   ],
   "source": [
    "mix[-2]"
   ]
  },
  {
   "cell_type": "code",
   "execution_count": 40,
   "id": "47297c21-c294-4c15-8ca0-3d9b465c788b",
   "metadata": {},
   "outputs": [],
   "source": [
    "l2 = [1,2,3,4,5,6,7,8]"
   ]
  },
  {
   "cell_type": "code",
   "execution_count": 41,
   "id": "2f292933-72cc-4fd1-9b24-4c3793944047",
   "metadata": {},
   "outputs": [
    {
     "data": {
      "text/plain": [
       "[1, 2, 3, 4, 5, 6, 7, 8]"
      ]
     },
     "execution_count": 41,
     "metadata": {},
     "output_type": "execute_result"
    }
   ],
   "source": [
    "l2"
   ]
  },
  {
   "cell_type": "code",
   "execution_count": 42,
   "id": "b1f4a038-2cd4-436b-8de1-e325cf2ccdeb",
   "metadata": {},
   "outputs": [
    {
     "data": {
      "text/plain": [
       "[1, 2, 3, 4, 5, 6, 7, 8]"
      ]
     },
     "execution_count": 42,
     "metadata": {},
     "output_type": "execute_result"
    }
   ],
   "source": [
    "l2[0:8]"
   ]
  },
  {
   "cell_type": "code",
   "execution_count": 45,
   "id": "9c387923-dff7-4f68-8ad6-a9cd5ccf6405",
   "metadata": {},
   "outputs": [
    {
     "data": {
      "text/plain": [
       "[1, 2, 3, 4, 5, 6, 7, 8]"
      ]
     },
     "execution_count": 45,
     "metadata": {},
     "output_type": "execute_result"
    }
   ],
   "source": [
    "l2[:]"
   ]
  },
  {
   "cell_type": "code",
   "execution_count": 46,
   "id": "4e1f614b-bb09-434f-b26a-a30c116049ac",
   "metadata": {},
   "outputs": [
    {
     "data": {
      "text/plain": [
       "[1, 3, 5, 7]"
      ]
     },
     "execution_count": 46,
     "metadata": {},
     "output_type": "execute_result"
    }
   ],
   "source": [
    "l2[::2] # Start index : End index : Jump Size"
   ]
  },
  {
   "cell_type": "code",
   "execution_count": 47,
   "id": "97a93e0e-1790-4ff7-bd67-23194b199a6a",
   "metadata": {},
   "outputs": [
    {
     "data": {
      "text/plain": [
       "[2, 4, 6, 8]"
      ]
     },
     "execution_count": 47,
     "metadata": {},
     "output_type": "execute_result"
    }
   ],
   "source": [
    "l2[1::2]"
   ]
  },
  {
   "cell_type": "markdown",
   "id": "b6b25c4d-432e-45d4-9517-8618a2360af5",
   "metadata": {},
   "source": [
    "# Rerverse Order"
   ]
  },
  {
   "cell_type": "code",
   "execution_count": 49,
   "id": "899dd851-af08-423f-b57b-7e15a4a23dc9",
   "metadata": {},
   "outputs": [
    {
     "data": {
      "text/plain": [
       "[8, 7, 6, 5, 4, 3, 2, 1]"
      ]
     },
     "execution_count": 49,
     "metadata": {},
     "output_type": "execute_result"
    }
   ],
   "source": [
    "l2[::-1]"
   ]
  },
  {
   "cell_type": "code",
   "execution_count": 51,
   "id": "2d0bd361-b41a-42ac-99c6-0fea80df3d80",
   "metadata": {},
   "outputs": [
    {
     "data": {
      "text/plain": [
       "[8, 6, 4, 2]"
      ]
     },
     "execution_count": 51,
     "metadata": {},
     "output_type": "execute_result"
    }
   ],
   "source": [
    "l2[::-2]"
   ]
  },
  {
   "cell_type": "code",
   "execution_count": 52,
   "id": "69e6b050-fb45-4275-843a-b26b15878234",
   "metadata": {},
   "outputs": [
    {
     "data": {
      "text/plain": [
       "[8, 5, 2]"
      ]
     },
     "execution_count": 52,
     "metadata": {},
     "output_type": "execute_result"
    }
   ],
   "source": [
    "l2[::-3]"
   ]
  },
  {
   "cell_type": "code",
   "execution_count": null,
   "id": "ec617c7a-eeaa-44c6-91ea-ff4446ec8223",
   "metadata": {},
   "outputs": [],
   "source": []
  }
 ],
 "metadata": {
  "kernelspec": {
   "display_name": "Python 3 (ipykernel)",
   "language": "python",
   "name": "python3"
  },
  "language_info": {
   "codemirror_mode": {
    "name": "ipython",
    "version": 3
   },
   "file_extension": ".py",
   "mimetype": "text/x-python",
   "name": "python",
   "nbconvert_exporter": "python",
   "pygments_lexer": "ipython3",
   "version": "3.12.7"
  }
 },
 "nbformat": 4,
 "nbformat_minor": 5
}
