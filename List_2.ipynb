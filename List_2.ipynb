{
 "cells": [
  {
   "cell_type": "markdown",
   "id": "a672518d-437c-4056-9f4e-f4ab52554f92",
   "metadata": {},
   "source": [
    "# Nested Line"
   ]
  },
  {
   "cell_type": "code",
   "execution_count": 1,
   "id": "4e41d62f-3c58-46b3-8e60-931bb29eca29",
   "metadata": {},
   "outputs": [],
   "source": [
    "l = [1,2,3,4,[10,20,30], 5,6]"
   ]
  },
  {
   "cell_type": "code",
   "execution_count": 2,
   "id": "560a8307-ad4d-4d63-b84e-405d74350e6f",
   "metadata": {},
   "outputs": [
    {
     "data": {
      "text/plain": [
       "[1, 2, 3, 4, [10, 20, 30], 5, 6]"
      ]
     },
     "execution_count": 2,
     "metadata": {},
     "output_type": "execute_result"
    }
   ],
   "source": [
    "l"
   ]
  },
  {
   "cell_type": "code",
   "execution_count": 3,
   "id": "074b5cc3-7198-4d16-acc8-4a9816f3759d",
   "metadata": {},
   "outputs": [
    {
     "data": {
      "text/plain": [
       "1"
      ]
     },
     "execution_count": 3,
     "metadata": {},
     "output_type": "execute_result"
    }
   ],
   "source": [
    "l[0]"
   ]
  },
  {
   "cell_type": "code",
   "execution_count": 4,
   "id": "b47827e6-e262-49f3-9193-830ecd8c3e4c",
   "metadata": {},
   "outputs": [
    {
     "data": {
      "text/plain": [
       "2"
      ]
     },
     "execution_count": 4,
     "metadata": {},
     "output_type": "execute_result"
    }
   ],
   "source": [
    "l[1]"
   ]
  },
  {
   "cell_type": "code",
   "execution_count": 5,
   "id": "68c93a99-9bb5-49cc-a465-51159616bf9b",
   "metadata": {},
   "outputs": [
    {
     "data": {
      "text/plain": [
       "3"
      ]
     },
     "execution_count": 5,
     "metadata": {},
     "output_type": "execute_result"
    }
   ],
   "source": [
    "l[2]"
   ]
  },
  {
   "cell_type": "code",
   "execution_count": 6,
   "id": "6fce87ae-86bf-48ce-9e9e-d3a3044f45b3",
   "metadata": {},
   "outputs": [
    {
     "data": {
      "text/plain": [
       "[10, 20, 30]"
      ]
     },
     "execution_count": 6,
     "metadata": {},
     "output_type": "execute_result"
    }
   ],
   "source": [
    "l[4]"
   ]
  },
  {
   "cell_type": "code",
   "execution_count": 9,
   "id": "c50c610c-897a-460c-b1c6-576465cb2538",
   "metadata": {},
   "outputs": [
    {
     "data": {
      "text/plain": [
       "20"
      ]
     },
     "execution_count": 9,
     "metadata": {},
     "output_type": "execute_result"
    }
   ],
   "source": [
    "l[4][1]"
   ]
  },
  {
   "cell_type": "code",
   "execution_count": 10,
   "id": "63ebf216-9e2d-4532-ac3f-ac3f3b79f90c",
   "metadata": {},
   "outputs": [
    {
     "data": {
      "text/plain": [
       "30"
      ]
     },
     "execution_count": 10,
     "metadata": {},
     "output_type": "execute_result"
    }
   ],
   "source": [
    "l[4][2]"
   ]
  },
  {
   "cell_type": "code",
   "execution_count": 11,
   "id": "b49201c2-60f4-4f7b-95ec-a788eaffc0de",
   "metadata": {},
   "outputs": [],
   "source": [
    "l2 = [1,2,3,4,[10,20,30,[100,200,300], 40], 5]"
   ]
  },
  {
   "cell_type": "code",
   "execution_count": 13,
   "id": "7437e1ca-5790-4f93-80b3-287f138b50c2",
   "metadata": {},
   "outputs": [
    {
     "data": {
      "text/plain": [
       "[1, 2, 3, 4, [10, 20, 30, [100, 200, 300], 40], 5]"
      ]
     },
     "execution_count": 13,
     "metadata": {},
     "output_type": "execute_result"
    }
   ],
   "source": [
    "l2"
   ]
  },
  {
   "cell_type": "code",
   "execution_count": 16,
   "id": "ee7ccd7b-9f16-494b-9636-2ac38b2fa846",
   "metadata": {},
   "outputs": [
    {
     "data": {
      "text/plain": [
       "[100, 200, 300]"
      ]
     },
     "execution_count": 16,
     "metadata": {},
     "output_type": "execute_result"
    }
   ],
   "source": [
    "l2[4][3]"
   ]
  },
  {
   "cell_type": "code",
   "execution_count": 17,
   "id": "beed0eb6-e177-4602-987e-0ed92f856dbd",
   "metadata": {},
   "outputs": [
    {
     "data": {
      "text/plain": [
       "100"
      ]
     },
     "execution_count": 17,
     "metadata": {},
     "output_type": "execute_result"
    }
   ],
   "source": [
    "l2[4][3][0]"
   ]
  },
  {
   "cell_type": "markdown",
   "id": "ba3d1b99-3c3e-4550-aac1-67c14630646a",
   "metadata": {},
   "source": [
    "# Functions and lists"
   ]
  },
  {
   "cell_type": "code",
   "execution_count": 18,
   "id": "0e4f8eaa-6b67-4b8a-b80d-296b26b800ff",
   "metadata": {},
   "outputs": [],
   "source": [
    "a = [1,2,3,4,]"
   ]
  },
  {
   "cell_type": "code",
   "execution_count": 19,
   "id": "755fbe68-d151-41cc-a0a5-1d0b5f09f22f",
   "metadata": {},
   "outputs": [
    {
     "data": {
      "text/plain": [
       "[1, 2, 3, 4]"
      ]
     },
     "execution_count": 19,
     "metadata": {},
     "output_type": "execute_result"
    }
   ],
   "source": [
    "a"
   ]
  },
  {
   "cell_type": "code",
   "execution_count": 20,
   "id": "9424c783-d50f-4b5d-8312-d3ed75d6afc4",
   "metadata": {},
   "outputs": [],
   "source": [
    "a.append(10)"
   ]
  },
  {
   "cell_type": "code",
   "execution_count": 21,
   "id": "94755dec-ad80-4eef-9bfd-18c52a3362b0",
   "metadata": {},
   "outputs": [
    {
     "data": {
      "text/plain": [
       "[1, 2, 3, 4, 10]"
      ]
     },
     "execution_count": 21,
     "metadata": {},
     "output_type": "execute_result"
    }
   ],
   "source": [
    "a"
   ]
  },
  {
   "cell_type": "code",
   "execution_count": 22,
   "id": "99b13931-f0d8-4ad6-a431-76b6c6640d4e",
   "metadata": {},
   "outputs": [],
   "source": [
    "a.append([1,2])"
   ]
  },
  {
   "cell_type": "code",
   "execution_count": 23,
   "id": "565d9a57-6e75-4b2a-b556-9f5c32a0661b",
   "metadata": {},
   "outputs": [
    {
     "data": {
      "text/plain": [
       "[1, 2, 3, 4, 10, [1, 2]]"
      ]
     },
     "execution_count": 23,
     "metadata": {},
     "output_type": "execute_result"
    }
   ],
   "source": [
    "a"
   ]
  },
  {
   "cell_type": "code",
   "execution_count": 24,
   "id": "77b860b5-3872-4085-b7aa-7200ffc07d2e",
   "metadata": {},
   "outputs": [],
   "source": [
    "a.extend([1,2])"
   ]
  },
  {
   "cell_type": "code",
   "execution_count": 25,
   "id": "50d94311-6669-4dcf-b9dd-b4d8da85a7a1",
   "metadata": {},
   "outputs": [
    {
     "data": {
      "text/plain": [
       "[1, 2, 3, 4, 10, [1, 2], 1, 2]"
      ]
     },
     "execution_count": 25,
     "metadata": {},
     "output_type": "execute_result"
    }
   ],
   "source": [
    "a"
   ]
  },
  {
   "cell_type": "code",
   "execution_count": 26,
   "id": "2353035b-385d-4d49-b893-0974265d7c27",
   "metadata": {},
   "outputs": [],
   "source": [
    "a.extend('hello')"
   ]
  },
  {
   "cell_type": "code",
   "execution_count": 27,
   "id": "009b2937-b59e-42f2-9ce9-470d15009cfc",
   "metadata": {},
   "outputs": [
    {
     "data": {
      "text/plain": [
       "[1, 2, 3, 4, 10, [1, 2], 1, 2, 'h', 'e', 'l', 'l', 'o']"
      ]
     },
     "execution_count": 27,
     "metadata": {},
     "output_type": "execute_result"
    }
   ],
   "source": [
    "a"
   ]
  },
  {
   "cell_type": "code",
   "execution_count": 28,
   "id": "5119b32f-a93c-4378-8c3d-c479b453368f",
   "metadata": {},
   "outputs": [],
   "source": [
    "a.append('hello')"
   ]
  },
  {
   "cell_type": "code",
   "execution_count": 29,
   "id": "cc881055-2f9a-4171-bbed-57a30a6db6b0",
   "metadata": {},
   "outputs": [
    {
     "data": {
      "text/plain": [
       "[1, 2, 3, 4, 10, [1, 2], 1, 2, 'h', 'e', 'l', 'l', 'o', 'hello']"
      ]
     },
     "execution_count": 29,
     "metadata": {},
     "output_type": "execute_result"
    }
   ],
   "source": [
    "a"
   ]
  },
  {
   "cell_type": "code",
   "execution_count": 30,
   "id": "09d374be-50f7-4543-affd-b1ef75dc87a0",
   "metadata": {},
   "outputs": [
    {
     "data": {
      "text/plain": [
       "2"
      ]
     },
     "execution_count": 30,
     "metadata": {},
     "output_type": "execute_result"
    }
   ],
   "source": [
    "a.count(1)"
   ]
  },
  {
   "cell_type": "code",
   "execution_count": 31,
   "id": "25db188a-d95c-40d2-b5d5-6ea034b37ff3",
   "metadata": {},
   "outputs": [
    {
     "data": {
      "text/plain": [
       "1"
      ]
     },
     "execution_count": 31,
     "metadata": {},
     "output_type": "execute_result"
    }
   ],
   "source": [
    "a.count(3)"
   ]
  },
  {
   "cell_type": "code",
   "execution_count": 34,
   "id": "967648c4-f45c-4514-ab13-e2f9a502b8ac",
   "metadata": {},
   "outputs": [
    {
     "data": {
      "text/plain": [
       "2"
      ]
     },
     "execution_count": 34,
     "metadata": {},
     "output_type": "execute_result"
    }
   ],
   "source": [
    "a.count('l')"
   ]
  },
  {
   "cell_type": "code",
   "execution_count": 35,
   "id": "6e2c3212-d902-4875-8bc0-401d1cdb84fc",
   "metadata": {},
   "outputs": [
    {
     "data": {
      "text/plain": [
       "4"
      ]
     },
     "execution_count": 35,
     "metadata": {},
     "output_type": "execute_result"
    }
   ],
   "source": [
    "a.index(10)"
   ]
  },
  {
   "cell_type": "code",
   "execution_count": 36,
   "id": "c6603e26-b7ed-4cef-b70f-f92fe882576a",
   "metadata": {},
   "outputs": [
    {
     "data": {
      "text/plain": [
       "0"
      ]
     },
     "execution_count": 36,
     "metadata": {},
     "output_type": "execute_result"
    }
   ],
   "source": [
    "a.index(1)"
   ]
  },
  {
   "cell_type": "code",
   "execution_count": 39,
   "id": "18b9d099-8d45-4b38-8874-994285a3723e",
   "metadata": {},
   "outputs": [
    {
     "data": {
      "text/plain": [
       "10"
      ]
     },
     "execution_count": 39,
     "metadata": {},
     "output_type": "execute_result"
    }
   ],
   "source": [
    "a.index('l') # nearset one lists "
   ]
  },
  {
   "cell_type": "code",
   "execution_count": 40,
   "id": "e6677e1a-a244-4f85-8e65-51787f7686fc",
   "metadata": {},
   "outputs": [],
   "source": [
    "a.insert(1,200)"
   ]
  },
  {
   "cell_type": "code",
   "execution_count": 41,
   "id": "dd546d60-4543-4bf2-9b5c-2691811a66b4",
   "metadata": {},
   "outputs": [
    {
     "data": {
      "text/plain": [
       "[1, 200, 2, 3, 4, 10, [1, 2], 1, 2, 'h', 'e', 'l', 'l', 'o', 'hello']"
      ]
     },
     "execution_count": 41,
     "metadata": {},
     "output_type": "execute_result"
    }
   ],
   "source": [
    "a"
   ]
  },
  {
   "cell_type": "code",
   "execution_count": 42,
   "id": "e92f8555-8ae0-4c46-a8ec-53080d28efe5",
   "metadata": {},
   "outputs": [],
   "source": [
    "a.remove(10)"
   ]
  },
  {
   "cell_type": "code",
   "execution_count": 43,
   "id": "f10fb6cb-87dc-4b53-961d-ef7334843793",
   "metadata": {},
   "outputs": [
    {
     "data": {
      "text/plain": [
       "[1, 200, 2, 3, 4, [1, 2], 1, 2, 'h', 'e', 'l', 'l', 'o', 'hello']"
      ]
     },
     "execution_count": 43,
     "metadata": {},
     "output_type": "execute_result"
    }
   ],
   "source": [
    "a"
   ]
  },
  {
   "cell_type": "code",
   "execution_count": null,
   "id": "04fbaf69-0125-412d-917c-651dcf817017",
   "metadata": {},
   "outputs": [],
   "source": [
    "# a[0] = 100"
   ]
  },
  {
   "cell_type": "code",
   "execution_count": 44,
   "id": "7b5e42df-e59b-4077-93d8-c2c6ed2c9e50",
   "metadata": {},
   "outputs": [],
   "source": [
    "a.remove(1)"
   ]
  },
  {
   "cell_type": "code",
   "execution_count": 45,
   "id": "10fcea49-3666-4882-a3bd-e62a007ba327",
   "metadata": {},
   "outputs": [
    {
     "data": {
      "text/plain": [
       "[200, 2, 3, 4, [1, 2], 1, 2, 'h', 'e', 'l', 'l', 'o', 'hello']"
      ]
     },
     "execution_count": 45,
     "metadata": {},
     "output_type": "execute_result"
    }
   ],
   "source": [
    "a"
   ]
  },
  {
   "cell_type": "code",
   "execution_count": 46,
   "id": "dea73f74-a4ac-43f0-a599-726d3e1aac71",
   "metadata": {},
   "outputs": [],
   "source": [
    "a.remove(1)"
   ]
  },
  {
   "cell_type": "code",
   "execution_count": 47,
   "id": "d1cdd8f9-66be-49da-a32d-4fbbaff27edc",
   "metadata": {},
   "outputs": [
    {
     "data": {
      "text/plain": [
       "[200, 2, 3, 4, [1, 2], 2, 'h', 'e', 'l', 'l', 'o', 'hello']"
      ]
     },
     "execution_count": 47,
     "metadata": {},
     "output_type": "execute_result"
    }
   ],
   "source": [
    "a"
   ]
  },
  {
   "cell_type": "code",
   "execution_count": 49,
   "id": "55fcdbb9-b8f5-4208-b670-34df47a580cf",
   "metadata": {},
   "outputs": [
    {
     "data": {
      "text/plain": [
       "'o'"
      ]
     },
     "execution_count": 49,
     "metadata": {},
     "output_type": "execute_result"
    }
   ],
   "source": [
    "a.pop()"
   ]
  },
  {
   "cell_type": "code",
   "execution_count": 50,
   "id": "f513af03-a65a-4660-bb78-d5535d5c1198",
   "metadata": {},
   "outputs": [
    {
     "data": {
      "text/plain": [
       "[200, 2, 3, 4, [1, 2], 2, 'h', 'e', 'l', 'l']"
      ]
     },
     "execution_count": 50,
     "metadata": {},
     "output_type": "execute_result"
    }
   ],
   "source": [
    "a"
   ]
  },
  {
   "cell_type": "code",
   "execution_count": 51,
   "id": "5dae7c7d-7a40-488b-bd7a-0ce6ce2316fb",
   "metadata": {},
   "outputs": [
    {
     "data": {
      "text/plain": [
       "'l'"
      ]
     },
     "execution_count": 51,
     "metadata": {},
     "output_type": "execute_result"
    }
   ],
   "source": [
    "a.pop()"
   ]
  },
  {
   "cell_type": "code",
   "execution_count": 52,
   "id": "862bf663-40ca-444e-b05b-e4d60029c356",
   "metadata": {},
   "outputs": [
    {
     "data": {
      "text/plain": [
       "[200, 2, 3, 4, [1, 2], 2, 'h', 'e', 'l']"
      ]
     },
     "execution_count": 52,
     "metadata": {},
     "output_type": "execute_result"
    }
   ],
   "source": [
    "a"
   ]
  },
  {
   "cell_type": "code",
   "execution_count": 55,
   "id": "cce9e8e7-b447-4a24-9c39-7357c93829d2",
   "metadata": {},
   "outputs": [
    {
     "data": {
      "text/plain": [
       "[200, 2, 3, 4, [1, 2], 2, 'h', 'e', 'l']"
      ]
     },
     "execution_count": 55,
     "metadata": {},
     "output_type": "execute_result"
    }
   ],
   "source": [
    "a[::-1]"
   ]
  },
  {
   "cell_type": "code",
   "execution_count": 53,
   "id": "f155b224-385c-4ed9-ba06-9820b9915c03",
   "metadata": {},
   "outputs": [],
   "source": [
    "a.reverse()"
   ]
  },
  {
   "cell_type": "code",
   "execution_count": 54,
   "id": "bc8dc118-f1b8-44ab-b20e-e84f31d332ab",
   "metadata": {},
   "outputs": [
    {
     "data": {
      "text/plain": [
       "['l', 'e', 'h', 2, [1, 2], 4, 3, 2, 200]"
      ]
     },
     "execution_count": 54,
     "metadata": {},
     "output_type": "execute_result"
    }
   ],
   "source": [
    "a"
   ]
  },
  {
   "cell_type": "markdown",
   "id": "adbc538a-2dd8-498b-8ed8-2e110acaba3c",
   "metadata": {},
   "source": [
    "# Copy"
   ]
  },
  {
   "cell_type": "code",
   "execution_count": 56,
   "id": "1fd5baef-95be-4fd8-b87e-fc68134518bd",
   "metadata": {},
   "outputs": [],
   "source": [
    "data = [1,2,3,4,5]"
   ]
  },
  {
   "cell_type": "code",
   "execution_count": 57,
   "id": "6366b805-f2a3-4b86-b035-7de2f1ec25a9",
   "metadata": {},
   "outputs": [],
   "source": [
    "data_2 = data"
   ]
  },
  {
   "cell_type": "code",
   "execution_count": 58,
   "id": "57c5467d-6c8c-4d2c-8a59-56868a761172",
   "metadata": {},
   "outputs": [
    {
     "data": {
      "text/plain": [
       "[1, 2, 3, 4, 5]"
      ]
     },
     "execution_count": 58,
     "metadata": {},
     "output_type": "execute_result"
    }
   ],
   "source": [
    "data_2"
   ]
  },
  {
   "cell_type": "code",
   "execution_count": 59,
   "id": "ba1996ff-a36d-4e6c-92c3-1e72700e7455",
   "metadata": {},
   "outputs": [
    {
     "data": {
      "text/plain": [
       "[1, 2, 3, 4, 5]"
      ]
     },
     "execution_count": 59,
     "metadata": {},
     "output_type": "execute_result"
    }
   ],
   "source": [
    "data"
   ]
  },
  {
   "cell_type": "code",
   "execution_count": 60,
   "id": "27cc395a-07b8-4e9b-ad5e-91620425b60b",
   "metadata": {},
   "outputs": [],
   "source": [
    "data[0] = 100"
   ]
  },
  {
   "cell_type": "code",
   "execution_count": 61,
   "id": "aa504838-2ce1-43c0-b1b9-0d9a6cbc3e08",
   "metadata": {},
   "outputs": [
    {
     "data": {
      "text/plain": [
       "[100, 2, 3, 4, 5]"
      ]
     },
     "execution_count": 61,
     "metadata": {},
     "output_type": "execute_result"
    }
   ],
   "source": [
    "data"
   ]
  },
  {
   "cell_type": "code",
   "execution_count": 62,
   "id": "2781910d-1bef-4f3d-8321-47ffea01b507",
   "metadata": {},
   "outputs": [
    {
     "data": {
      "text/plain": [
       "[100, 2, 3, 4, 5]"
      ]
     },
     "execution_count": 62,
     "metadata": {},
     "output_type": "execute_result"
    }
   ],
   "source": [
    "data_2"
   ]
  },
  {
   "cell_type": "code",
   "execution_count": 64,
   "id": "8d32d5da-e9e4-43fc-bc76-9a7409382ffd",
   "metadata": {},
   "outputs": [],
   "source": [
    "data_copy = data.copy()"
   ]
  },
  {
   "cell_type": "code",
   "execution_count": 65,
   "id": "ff18adfc-9e62-46fe-9d53-984c763e8600",
   "metadata": {},
   "outputs": [
    {
     "data": {
      "text/plain": [
       "[100, 2, 3, 4, 5]"
      ]
     },
     "execution_count": 65,
     "metadata": {},
     "output_type": "execute_result"
    }
   ],
   "source": [
    "data_copy"
   ]
  },
  {
   "cell_type": "code",
   "execution_count": 66,
   "id": "abc34102-32a7-404b-aea3-0c8cab5e5ad2",
   "metadata": {},
   "outputs": [
    {
     "data": {
      "text/plain": [
       "[100, 2, 3, 4, 5]"
      ]
     },
     "execution_count": 66,
     "metadata": {},
     "output_type": "execute_result"
    }
   ],
   "source": [
    "data"
   ]
  },
  {
   "cell_type": "code",
   "execution_count": 67,
   "id": "25b3a546-ab19-4b3b-b820-22f03b12d235",
   "metadata": {},
   "outputs": [],
   "source": [
    "data.append('hello')"
   ]
  },
  {
   "cell_type": "code",
   "execution_count": 68,
   "id": "336a0d82-0c74-4030-84c4-db4f2828f1c1",
   "metadata": {},
   "outputs": [
    {
     "data": {
      "text/plain": [
       "[100, 2, 3, 4, 5, 'hello']"
      ]
     },
     "execution_count": 68,
     "metadata": {},
     "output_type": "execute_result"
    }
   ],
   "source": [
    "data"
   ]
  },
  {
   "cell_type": "code",
   "execution_count": 69,
   "id": "eae56f4e-1d7e-4f47-bd42-f82838f6dfdf",
   "metadata": {},
   "outputs": [
    {
     "data": {
      "text/plain": [
       "[100, 2, 3, 4, 5]"
      ]
     },
     "execution_count": 69,
     "metadata": {},
     "output_type": "execute_result"
    }
   ],
   "source": [
    "data_copy"
   ]
  },
  {
   "cell_type": "markdown",
   "id": "edec2e30-714e-4975-be7d-e9ea6f18d578",
   "metadata": {},
   "source": [
    "# Set"
   ]
  },
  {
   "cell_type": "code",
   "execution_count": 70,
   "id": "7d7e3f5e-292b-43fe-a8bd-9872a0392239",
   "metadata": {},
   "outputs": [],
   "source": [
    "s = (1,2,3,4)"
   ]
  },
  {
   "cell_type": "code",
   "execution_count": 71,
   "id": "5d5edd3b-f895-472d-b458-144a42c8ca8e",
   "metadata": {},
   "outputs": [
    {
     "data": {
      "text/plain": [
       "(1, 2, 3, 4)"
      ]
     },
     "execution_count": 71,
     "metadata": {},
     "output_type": "execute_result"
    }
   ],
   "source": [
    "s"
   ]
  },
  {
   "cell_type": "code",
   "execution_count": 73,
   "id": "08371e77-2422-4f12-ac4b-644d8ce4cba5",
   "metadata": {},
   "outputs": [
    {
     "data": {
      "text/plain": [
       "tuple"
      ]
     },
     "execution_count": 73,
     "metadata": {},
     "output_type": "execute_result"
    }
   ],
   "source": [
    "type(s)"
   ]
  },
  {
   "cell_type": "code",
   "execution_count": 74,
   "id": "c28554d9-915b-411a-b83f-d056005e7107",
   "metadata": {},
   "outputs": [
    {
     "data": {
      "text/plain": [
       "1"
      ]
     },
     "execution_count": 74,
     "metadata": {},
     "output_type": "execute_result"
    }
   ],
   "source": [
    "s.count(2)"
   ]
  },
  {
   "cell_type": "code",
   "execution_count": 75,
   "id": "ffe29989-3797-4bd1-afa4-8dadb7065cec",
   "metadata": {},
   "outputs": [
    {
     "data": {
      "text/plain": [
       "3"
      ]
     },
     "execution_count": 75,
     "metadata": {},
     "output_type": "execute_result"
    }
   ],
   "source": [
    "s.index(4)"
   ]
  },
  {
   "cell_type": "code",
   "execution_count": 76,
   "id": "78d1e5b7-aa45-43a5-b027-5e6a4051b7b2",
   "metadata": {},
   "outputs": [
    {
     "data": {
      "text/plain": [
       "1"
      ]
     },
     "execution_count": 76,
     "metadata": {},
     "output_type": "execute_result"
    }
   ],
   "source": [
    "s[0]"
   ]
  },
  {
   "cell_type": "code",
   "execution_count": 77,
   "id": "c8ffa355-d62b-4a16-a466-b56066f3b112",
   "metadata": {},
   "outputs": [
    {
     "ename": "TypeError",
     "evalue": "'tuple' object does not support item assignment",
     "output_type": "error",
     "traceback": [
      "\u001b[1;31m---------------------------------------------------------------------------\u001b[0m",
      "\u001b[1;31mTypeError\u001b[0m                                 Traceback (most recent call last)",
      "Cell \u001b[1;32mIn[77], line 1\u001b[0m\n\u001b[1;32m----> 1\u001b[0m s[\u001b[38;5;241m0\u001b[39m] \u001b[38;5;241m=\u001b[39m \u001b[38;5;241m12\u001b[39m\n",
      "\u001b[1;31mTypeError\u001b[0m: 'tuple' object does not support item assignment"
     ]
    }
   ],
   "source": [
    "s[0] = 12"
   ]
  },
  {
   "cell_type": "code",
   "execution_count": 79,
   "id": "d160d142-4004-4a87-b5c7-5db4c632adf3",
   "metadata": {},
   "outputs": [],
   "source": [
    "t = (1,2,3,1,2,'Hello')"
   ]
  },
  {
   "cell_type": "code",
   "execution_count": 80,
   "id": "068e1be2-e357-46a6-961f-ece137dc526f",
   "metadata": {},
   "outputs": [
    {
     "data": {
      "text/plain": [
       "(1, 2, 3, 1, 2, 'Hello')"
      ]
     },
     "execution_count": 80,
     "metadata": {},
     "output_type": "execute_result"
    }
   ],
   "source": [
    "t"
   ]
  },
  {
   "cell_type": "code",
   "execution_count": 85,
   "id": "c7de0fae-e1ed-44be-b7ac-079eac416830",
   "metadata": {},
   "outputs": [
    {
     "ename": "AttributeError",
     "evalue": "'tuple' object has no attribute 'append'",
     "output_type": "error",
     "traceback": [
      "\u001b[1;31m---------------------------------------------------------------------------\u001b[0m",
      "\u001b[1;31mAttributeError\u001b[0m                            Traceback (most recent call last)",
      "Cell \u001b[1;32mIn[85], line 1\u001b[0m\n\u001b[1;32m----> 1\u001b[0m t\u001b[38;5;241m.\u001b[39mappend(\u001b[38;5;241m0\u001b[39m)\n",
      "\u001b[1;31mAttributeError\u001b[0m: 'tuple' object has no attribute 'append'"
     ]
    }
   ],
   "source": [
    "t.append(0)"
   ]
  },
  {
   "cell_type": "code",
   "execution_count": 86,
   "id": "be425f01-f7c8-4ce7-9ca9-a964e895ec82",
   "metadata": {},
   "outputs": [
    {
     "data": {
      "text/plain": [
       "(1, 2, 3, 1, 2, 'Hello')"
      ]
     },
     "execution_count": 86,
     "metadata": {},
     "output_type": "execute_result"
    }
   ],
   "source": [
    "t"
   ]
  },
  {
   "cell_type": "code",
   "execution_count": 88,
   "id": "a9d14cfb-a2c3-471a-ab22-080c2ce737cf",
   "metadata": {},
   "outputs": [],
   "source": [
    "t = tuple(t)"
   ]
  },
  {
   "cell_type": "code",
   "execution_count": 89,
   "id": "9c9406c8-e503-4023-ac98-9429beb7ee6e",
   "metadata": {},
   "outputs": [
    {
     "data": {
      "text/plain": [
       "(1, 2, 3, 1, 2, 'Hello')"
      ]
     },
     "execution_count": 89,
     "metadata": {},
     "output_type": "execute_result"
    }
   ],
   "source": [
    "t"
   ]
  },
  {
   "cell_type": "code",
   "execution_count": null,
   "id": "1d2364ab-c90b-4776-b5de-52fbc8bc5f69",
   "metadata": {},
   "outputs": [],
   "source": []
  }
 ],
 "metadata": {
  "kernelspec": {
   "display_name": "Python 3 (ipykernel)",
   "language": "python",
   "name": "python3"
  },
  "language_info": {
   "codemirror_mode": {
    "name": "ipython",
    "version": 3
   },
   "file_extension": ".py",
   "mimetype": "text/x-python",
   "name": "python",
   "nbconvert_exporter": "python",
   "pygments_lexer": "ipython3",
   "version": "3.12.7"
  }
 },
 "nbformat": 4,
 "nbformat_minor": 5
}
