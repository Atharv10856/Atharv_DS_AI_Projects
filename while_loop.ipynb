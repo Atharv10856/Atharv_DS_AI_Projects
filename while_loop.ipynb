{
 "cells": [
  {
   "cell_type": "code",
   "execution_count": 1,
   "id": "44a74818-c0dc-4de6-bd66-b9f377a446f4",
   "metadata": {},
   "outputs": [],
   "source": [
    "l = [10, 1.5, 'Hello', True]"
   ]
  },
  {
   "cell_type": "code",
   "execution_count": 2,
   "id": "6fb89c0c-9c3c-4dd8-8f78-e99540750598",
   "metadata": {},
   "outputs": [
    {
     "data": {
      "text/plain": [
       "[10, 1.5, 'Hello', True]"
      ]
     },
     "execution_count": 2,
     "metadata": {},
     "output_type": "execute_result"
    }
   ],
   "source": [
    "l"
   ]
  },
  {
   "cell_type": "code",
   "execution_count": 3,
   "id": "93258ef9-70fb-42dd-9d50-c7d03ba2f9df",
   "metadata": {},
   "outputs": [
    {
     "name": "stdout",
     "output_type": "stream",
     "text": [
      "10\n",
      "1.5\n",
      "Hello\n",
      "True\n"
     ]
    }
   ],
   "source": [
    "for i in l:\n",
    "    print(i)"
   ]
  },
  {
   "cell_type": "code",
   "execution_count": 4,
   "id": "f9a0a0fa-dde0-4cd3-970a-7507cc18ea30",
   "metadata": {},
   "outputs": [
    {
     "name": "stdout",
     "output_type": "stream",
     "text": [
      "<class 'int'> 10\n",
      "<class 'float'> 1.5\n",
      "<class 'str'> Hello\n",
      "<class 'bool'> True\n"
     ]
    }
   ],
   "source": [
    "for i in l:\n",
    "    print(type(i), i)"
   ]
  },
  {
   "cell_type": "code",
   "execution_count": 5,
   "id": "9b37e054-0607-4c5a-9519-a6fd54893602",
   "metadata": {},
   "outputs": [],
   "source": [
    "l = [10, 1.5, 'Hello', True, 15, 12.5, 5]"
   ]
  },
  {
   "cell_type": "code",
   "execution_count": 6,
   "id": "03965f1c-d95b-4b0e-9257-b5db83954238",
   "metadata": {},
   "outputs": [
    {
     "name": "stdout",
     "output_type": "stream",
     "text": [
      "10\n",
      "15\n",
      "5\n"
     ]
    }
   ],
   "source": [
    "for i in l:\n",
    "    if type(i) == int:\n",
    "       print(i)"
   ]
  },
  {
   "cell_type": "code",
   "execution_count": 7,
   "id": "2d32bba4-9f4c-44dd-8f55-d9795ed57259",
   "metadata": {},
   "outputs": [
    {
     "data": {
      "text/plain": [
       "int"
      ]
     },
     "execution_count": 7,
     "metadata": {},
     "output_type": "execute_result"
    }
   ],
   "source": [
    "type(5)"
   ]
  },
  {
   "cell_type": "code",
   "execution_count": 8,
   "id": "6424ad00-7245-4c75-a6e6-bd9a5c0ad612",
   "metadata": {},
   "outputs": [
    {
     "data": {
      "text/plain": [
       "True"
      ]
     },
     "execution_count": 8,
     "metadata": {},
     "output_type": "execute_result"
    }
   ],
   "source": [
    "type(5) == int"
   ]
  },
  {
   "cell_type": "code",
   "execution_count": 9,
   "id": "6d0297f1-393d-4381-a568-93d13036a651",
   "metadata": {},
   "outputs": [
    {
     "name": "stdout",
     "output_type": "stream",
     "text": [
      "1.5\n",
      "12.5\n"
     ]
    }
   ],
   "source": [
    "for i in l:\n",
    "    if type(i) == float:\n",
    "       print(i)"
   ]
  },
  {
   "cell_type": "code",
   "execution_count": 10,
   "id": "f6269613-5443-45d8-99a6-5b3f292fd79a",
   "metadata": {},
   "outputs": [
    {
     "data": {
      "text/plain": [
       "False"
      ]
     },
     "execution_count": 10,
     "metadata": {},
     "output_type": "execute_result"
    }
   ],
   "source": [
    "10.5 == float"
   ]
  },
  {
   "cell_type": "code",
   "execution_count": 11,
   "id": "291bd249-1357-4ed4-9e7d-d67846192a71",
   "metadata": {},
   "outputs": [
    {
     "data": {
      "text/plain": [
       "True"
      ]
     },
     "execution_count": 11,
     "metadata": {},
     "output_type": "execute_result"
    }
   ],
   "source": [
    "type(10.5) == float"
   ]
  },
  {
   "cell_type": "code",
   "execution_count": 12,
   "id": "09d841ca-66f0-42f6-9c46-7669c7a1031a",
   "metadata": {},
   "outputs": [
    {
     "data": {
      "text/plain": [
       "float"
      ]
     },
     "execution_count": 12,
     "metadata": {},
     "output_type": "execute_result"
    }
   ],
   "source": [
    "type(10.5)"
   ]
  },
  {
   "cell_type": "code",
   "execution_count": 13,
   "id": "1ebe57c5-3cf8-453e-9a4e-bdc72a41c70f",
   "metadata": {},
   "outputs": [
    {
     "name": "stdout",
     "output_type": "stream",
     "text": [
      "Hello\n"
     ]
    }
   ],
   "source": [
    "for i in l:\n",
    "    if type(i) == str:\n",
    "       print(i)"
   ]
  },
  {
   "cell_type": "code",
   "execution_count": 14,
   "id": "aedcb00a-f9c5-449c-939c-03510aca8f83",
   "metadata": {},
   "outputs": [
    {
     "name": "stdout",
     "output_type": "stream",
     "text": [
      "h\n",
      "e\n",
      "l\n",
      "l\n",
      "o\n"
     ]
    }
   ],
   "source": [
    "for i in'hello':\n",
    "    print(i)"
   ]
  },
  {
   "cell_type": "code",
   "execution_count": 15,
   "id": "cb1dd01f-bcf6-4993-9aca-1dd0f087b7c2",
   "metadata": {},
   "outputs": [
    {
     "name": "stdout",
     "output_type": "stream",
     "text": [
      "H\n",
      "e\n",
      "l\n",
      "l\n",
      "o\n"
     ]
    }
   ],
   "source": [
    "for i in l:\n",
    "    if type(i) == str:\n",
    "       for char in i: # i = 'hello'\n",
    "           print(char)"
   ]
  },
  {
   "cell_type": "code",
   "execution_count": 16,
   "id": "9a10bcb9-02be-4b5c-bc20-c345041f7faf",
   "metadata": {},
   "outputs": [
    {
     "name": "stdout",
     "output_type": "stream",
     "text": [
      "Hello\n",
      "Hello\n",
      "Hello\n",
      "Hello\n",
      "Hello\n"
     ]
    }
   ],
   "source": [
    "for i in l:\n",
    "    if type(i) == str:\n",
    "       for char in i: # i = 'hello'\n",
    "           print(i)"
   ]
  },
  {
   "cell_type": "code",
   "execution_count": 17,
   "id": "4a95166c-a1c5-4f92-af7b-6cc3a8a62585",
   "metadata": {},
   "outputs": [],
   "source": [
    "d = {'a':10, 'b':20, 'c':30}"
   ]
  },
  {
   "cell_type": "code",
   "execution_count": 18,
   "id": "4452e6c8-e57f-40a2-a771-a567ca6320ea",
   "metadata": {},
   "outputs": [
    {
     "name": "stdout",
     "output_type": "stream",
     "text": [
      "a 10\n",
      "b 20\n",
      "c 30\n"
     ]
    }
   ],
   "source": [
    "for key, values in d.items():\n",
    "    print(key,values)"
   ]
  },
  {
   "cell_type": "markdown",
   "id": "6ddc1996-2add-4b2c-a91e-632995e0e92f",
   "metadata": {},
   "source": [
    "# While loop"
   ]
  },
  {
   "cell_type": "code",
   "execution_count": 20,
   "id": "f88b3b5c-c280-43c8-9cd6-f92c2de441fa",
   "metadata": {},
   "outputs": [],
   "source": [
    "num = 0"
   ]
  },
  {
   "cell_type": "code",
   "execution_count": 21,
   "id": "7150c88a-ac32-43e1-968c-d654680d4965",
   "metadata": {},
   "outputs": [
    {
     "name": "stdout",
     "output_type": "stream",
     "text": [
      "0\n",
      "1\n",
      "2\n",
      "3\n",
      "4\n"
     ]
    }
   ],
   "source": [
    "while num < 5:\n",
    "      print(num)\n",
    "      num = num + 1"
   ]
  },
  {
   "cell_type": "code",
   "execution_count": 22,
   "id": "2c1a671a-ba2c-4186-b86e-0fc721bce422",
   "metadata": {},
   "outputs": [
    {
     "name": "stdout",
     "output_type": "stream",
     "text": [
      "25\n",
      "24\n",
      "23\n",
      "22\n",
      "21\n",
      "20\n",
      "19\n"
     ]
    }
   ],
   "source": [
    "age = 25\n",
    "while age > 18:\n",
    "      print(age)\n",
    "      age = age - 1"
   ]
  },
  {
   "cell_type": "code",
   "execution_count": 23,
   "id": "4e86cf7e-693b-4888-a473-ebb0a014c348",
   "metadata": {},
   "outputs": [
    {
     "data": {
      "text/plain": [
       "True"
      ]
     },
     "execution_count": 23,
     "metadata": {},
     "output_type": "execute_result"
    }
   ],
   "source": [
    "'pizza' == 'pizza'"
   ]
  },
  {
   "cell_type": "code",
   "execution_count": 25,
   "id": "9071d94f-4222-4139-ae68-2bad9a9ea749",
   "metadata": {},
   "outputs": [
    {
     "data": {
      "text/plain": [
       "False"
      ]
     },
     "execution_count": 25,
     "metadata": {},
     "output_type": "execute_result"
    }
   ],
   "source": [
    "'pizza' != 'pizza'"
   ]
  },
  {
   "cell_type": "code",
   "execution_count": null,
   "id": "14d994a1-e715-4f8d-86e7-04ff4e322c8c",
   "metadata": {},
   "outputs": [
    {
     "name": "stdout",
     "output_type": "stream",
     "text": [
      "hello\n"
     ]
    },
    {
     "name": "stdin",
     "output_type": "stream",
     "text": [
      "Enter hello123 for stop loop python564\n"
     ]
    },
    {
     "name": "stdout",
     "output_type": "stream",
     "text": [
      "python564\n"
     ]
    },
    {
     "name": "stdin",
     "output_type": "stream",
     "text": [
      "Enter hello123 for stop loop \n"
     ]
    },
    {
     "name": "stdout",
     "output_type": "stream",
     "text": [
      "\n"
     ]
    },
    {
     "name": "stdin",
     "output_type": "stream",
     "text": [
      "Enter hello123 for stop loop \n"
     ]
    },
    {
     "name": "stdout",
     "output_type": "stream",
     "text": [
      "\n"
     ]
    }
   ],
   "source": [
    "password = 'hello'\n",
    "while password != 'hello123':\n",
    "      print(password)\n",
    "      password = input('Enter hello123 for stop loop')"
   ]
  },
  {
   "cell_type": "code",
   "execution_count": 26,
   "id": "3acc255a-e47e-4775-9b75-168efdf48aeb",
   "metadata": {},
   "outputs": [
    {
     "data": {
      "text/plain": [
       "True"
      ]
     },
     "execution_count": 26,
     "metadata": {},
     "output_type": "execute_result"
    }
   ],
   "source": [
    "'hello' != 'hello123'"
   ]
  },
  {
   "cell_type": "code",
   "execution_count": 27,
   "id": "19fe793a-df0c-48f1-90a1-41a11aa4269e",
   "metadata": {},
   "outputs": [
    {
     "data": {
      "text/plain": [
       "False"
      ]
     },
     "execution_count": 27,
     "metadata": {},
     "output_type": "execute_result"
    }
   ],
   "source": [
    "'hello123' != 'hello123'"
   ]
  },
  {
   "cell_type": "code",
   "execution_count": null,
   "id": "26d0640f-093e-4cc0-9e08-6d3e58ffd66a",
   "metadata": {},
   "outputs": [],
   "source": []
  }
 ],
 "metadata": {
  "kernelspec": {
   "display_name": "Python 3 (ipykernel)",
   "language": "python",
   "name": "python3"
  },
  "language_info": {
   "codemirror_mode": {
    "name": "ipython",
    "version": 3
   },
   "file_extension": ".py",
   "mimetype": "text/x-python",
   "name": "python",
   "nbconvert_exporter": "python",
   "pygments_lexer": "ipython3",
   "version": "3.12.7"
  }
 },
 "nbformat": 4,
 "nbformat_minor": 5
}
