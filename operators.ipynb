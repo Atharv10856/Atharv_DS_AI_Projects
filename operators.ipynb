{
 "cells": [
  {
   "cell_type": "markdown",
   "id": "ed0bd01d-7931-4960-bbba-da78e9ee058d",
   "metadata": {},
   "source": [
    "# Arethematic operators"
   ]
  },
  {
   "cell_type": "code",
   "execution_count": 1,
   "id": "6057bd63-f1d7-422b-bec0-068d93eeb0f0",
   "metadata": {},
   "outputs": [
    {
     "data": {
      "text/plain": [
       "15"
      ]
     },
     "execution_count": 1,
     "metadata": {},
     "output_type": "execute_result"
    }
   ],
   "source": [
    "10 + 5"
   ]
  },
  {
   "cell_type": "code",
   "execution_count": 2,
   "id": "70c7a353-96be-4de4-8248-28fd47c40408",
   "metadata": {},
   "outputs": [
    {
     "data": {
      "text/plain": [
       "8"
      ]
     },
     "execution_count": 2,
     "metadata": {},
     "output_type": "execute_result"
    }
   ],
   "source": [
    "10 - 2"
   ]
  },
  {
   "cell_type": "code",
   "execution_count": 3,
   "id": "f6ed54d1-040c-456d-bbfe-a39135f31cf7",
   "metadata": {},
   "outputs": [
    {
     "data": {
      "text/plain": [
       "20"
      ]
     },
     "execution_count": 3,
     "metadata": {},
     "output_type": "execute_result"
    }
   ],
   "source": [
    "10 * 2"
   ]
  },
  {
   "cell_type": "code",
   "execution_count": 4,
   "id": "9998da2d-6e33-45d0-b519-0cddb9bcfed8",
   "metadata": {},
   "outputs": [
    {
     "data": {
      "text/plain": [
       "0"
      ]
     },
     "execution_count": 4,
     "metadata": {},
     "output_type": "execute_result"
    }
   ],
   "source": [
    "10 % 2"
   ]
  },
  {
   "cell_type": "markdown",
   "id": "0b5d7345-7cf7-4fbc-9765-2d1c74f21060",
   "metadata": {},
   "source": [
    "# Comparison operators"
   ]
  },
  {
   "cell_type": "code",
   "execution_count": 5,
   "id": "2814a1fe-fa5e-4b3c-8dee-eacefbba6cc1",
   "metadata": {},
   "outputs": [
    {
     "data": {
      "text/plain": [
       "True"
      ]
     },
     "execution_count": 5,
     "metadata": {},
     "output_type": "execute_result"
    }
   ],
   "source": [
    "10 > 5"
   ]
  },
  {
   "cell_type": "code",
   "execution_count": 6,
   "id": "f8de9f8b-aa13-4daa-b63f-af480c00e1e2",
   "metadata": {},
   "outputs": [
    {
     "data": {
      "text/plain": [
       "False"
      ]
     },
     "execution_count": 6,
     "metadata": {},
     "output_type": "execute_result"
    }
   ],
   "source": [
    "10 < 5"
   ]
  },
  {
   "cell_type": "code",
   "execution_count": 7,
   "id": "0dc879ba-4e79-497e-bc29-81488d48b147",
   "metadata": {},
   "outputs": [
    {
     "data": {
      "text/plain": [
       "False"
      ]
     },
     "execution_count": 7,
     "metadata": {},
     "output_type": "execute_result"
    }
   ],
   "source": [
    "10 > 10"
   ]
  },
  {
   "cell_type": "code",
   "execution_count": 8,
   "id": "9ee93363-9b8c-4704-adf0-b26d70fd2a8c",
   "metadata": {},
   "outputs": [
    {
     "data": {
      "text/plain": [
       "False"
      ]
     },
     "execution_count": 8,
     "metadata": {},
     "output_type": "execute_result"
    }
   ],
   "source": [
    "10 > 10"
   ]
  },
  {
   "cell_type": "code",
   "execution_count": 9,
   "id": "850b09a8-1c2e-4321-81bf-a09267a2e85f",
   "metadata": {},
   "outputs": [
    {
     "data": {
      "text/plain": [
       "True"
      ]
     },
     "execution_count": 9,
     "metadata": {},
     "output_type": "execute_result"
    }
   ],
   "source": [
    "10 <= 10"
   ]
  },
  {
   "cell_type": "code",
   "execution_count": 10,
   "id": "f0e1b338-f6bd-48a9-8539-4ecea72480e3",
   "metadata": {},
   "outputs": [
    {
     "data": {
      "text/plain": [
       "True"
      ]
     },
     "execution_count": 10,
     "metadata": {},
     "output_type": "execute_result"
    }
   ],
   "source": [
    "5 >= 5"
   ]
  },
  {
   "cell_type": "code",
   "execution_count": 11,
   "id": "5139db94-c4f8-4632-bd24-c9118f05c8e0",
   "metadata": {},
   "outputs": [
    {
     "data": {
      "text/plain": [
       "True"
      ]
     },
     "execution_count": 11,
     "metadata": {},
     "output_type": "execute_result"
    }
   ],
   "source": [
    "10 == 10"
   ]
  },
  {
   "cell_type": "code",
   "execution_count": 12,
   "id": "c8476e97-acf5-4079-93cf-b373b47755ff",
   "metadata": {},
   "outputs": [
    {
     "data": {
      "text/plain": [
       "False"
      ]
     },
     "execution_count": 12,
     "metadata": {},
     "output_type": "execute_result"
    }
   ],
   "source": [
    "5 == 10"
   ]
  },
  {
   "cell_type": "code",
   "execution_count": 13,
   "id": "8d1fcef0-94c7-4786-819e-9b4e24a1824f",
   "metadata": {},
   "outputs": [
    {
     "data": {
      "text/plain": [
       "False"
      ]
     },
     "execution_count": 13,
     "metadata": {},
     "output_type": "execute_result"
    }
   ],
   "source": [
    "'HEllo' == 'hello'"
   ]
  },
  {
   "cell_type": "code",
   "execution_count": 14,
   "id": "e4d04a10-e48a-4b19-b9d7-3f8c01b7ff04",
   "metadata": {},
   "outputs": [
    {
     "data": {
      "text/plain": [
       "False"
      ]
     },
     "execution_count": 14,
     "metadata": {},
     "output_type": "execute_result"
    }
   ],
   "source": [
    "'h' == 'H'"
   ]
  },
  {
   "cell_type": "code",
   "execution_count": 15,
   "id": "94af9321-c962-4c28-9249-c6c7a9cacb3b",
   "metadata": {},
   "outputs": [
    {
     "data": {
      "text/plain": [
       "True"
      ]
     },
     "execution_count": 15,
     "metadata": {},
     "output_type": "execute_result"
    }
   ],
   "source": [
    "'h' == 'h'"
   ]
  },
  {
   "cell_type": "code",
   "execution_count": 16,
   "id": "c0e58a50-16f3-4ad0-8e7a-2fb1907be8a6",
   "metadata": {},
   "outputs": [
    {
     "data": {
      "text/plain": [
       "False"
      ]
     },
     "execution_count": 16,
     "metadata": {},
     "output_type": "execute_result"
    }
   ],
   "source": [
    "5 != 5"
   ]
  },
  {
   "cell_type": "code",
   "execution_count": 17,
   "id": "14997abc-d9c4-49c4-b7d5-875c708dde25",
   "metadata": {},
   "outputs": [
    {
     "data": {
      "text/plain": [
       "True"
      ]
     },
     "execution_count": 17,
     "metadata": {},
     "output_type": "execute_result"
    }
   ],
   "source": [
    "10 != 5"
   ]
  },
  {
   "cell_type": "code",
   "execution_count": 18,
   "id": "53f7a3d4-e5fe-403f-bad5-b53e92cf3e0f",
   "metadata": {},
   "outputs": [
    {
     "data": {
      "text/plain": [
       "False"
      ]
     },
     "execution_count": 18,
     "metadata": {},
     "output_type": "execute_result"
    }
   ],
   "source": [
    "'hello' != 'hello'"
   ]
  },
  {
   "cell_type": "code",
   "execution_count": 19,
   "id": "2c17decc-ba2d-404e-b2f4-ddbeee5f3663",
   "metadata": {},
   "outputs": [
    {
     "data": {
      "text/plain": [
       "True"
      ]
     },
     "execution_count": 19,
     "metadata": {},
     "output_type": "execute_result"
    }
   ],
   "source": [
    "'Hello' != 'Python'"
   ]
  },
  {
   "cell_type": "markdown",
   "id": "9647c961-3709-4716-9c7d-37fb23fbacc9",
   "metadata": {},
   "source": [
    "# AND"
   ]
  },
  {
   "cell_type": "code",
   "execution_count": 20,
   "id": "1370d522-e901-4002-8a1b-1f081a9e7360",
   "metadata": {},
   "outputs": [
    {
     "data": {
      "text/plain": [
       "True"
      ]
     },
     "execution_count": 20,
     "metadata": {},
     "output_type": "execute_result"
    }
   ],
   "source": [
    "True and True"
   ]
  },
  {
   "cell_type": "code",
   "execution_count": 23,
   "id": "68bb26b8-9b37-40e2-8c39-c4176fcfd4db",
   "metadata": {},
   "outputs": [
    {
     "data": {
      "text/plain": [
       "False"
      ]
     },
     "execution_count": 23,
     "metadata": {},
     "output_type": "execute_result"
    }
   ],
   "source": [
    "True and False"
   ]
  },
  {
   "cell_type": "code",
   "execution_count": 24,
   "id": "35657a39-bb35-4ab8-b624-c023c8e6dbc6",
   "metadata": {},
   "outputs": [
    {
     "data": {
      "text/plain": [
       "False"
      ]
     },
     "execution_count": 24,
     "metadata": {},
     "output_type": "execute_result"
    }
   ],
   "source": [
    "False and True "
   ]
  },
  {
   "cell_type": "code",
   "execution_count": 25,
   "id": "938bc2e3-5fa6-4495-9d87-ebab688921d5",
   "metadata": {},
   "outputs": [
    {
     "data": {
      "text/plain": [
       "False"
      ]
     },
     "execution_count": 25,
     "metadata": {},
     "output_type": "execute_result"
    }
   ],
   "source": [
    "False and False"
   ]
  },
  {
   "cell_type": "markdown",
   "id": "44e99e41-dd23-482e-b9b6-4a91b6bb6679",
   "metadata": {},
   "source": [
    "# OR"
   ]
  },
  {
   "cell_type": "code",
   "execution_count": 27,
   "id": "58e1bb7c-72e2-4d8f-89a2-3ef26096f0c7",
   "metadata": {},
   "outputs": [
    {
     "data": {
      "text/plain": [
       "True"
      ]
     },
     "execution_count": 27,
     "metadata": {},
     "output_type": "execute_result"
    }
   ],
   "source": [
    "True or True"
   ]
  },
  {
   "cell_type": "code",
   "execution_count": 28,
   "id": "48d4eba8-8ed6-4446-a6cf-5951fc524b59",
   "metadata": {},
   "outputs": [
    {
     "data": {
      "text/plain": [
       "True"
      ]
     },
     "execution_count": 28,
     "metadata": {},
     "output_type": "execute_result"
    }
   ],
   "source": [
    "True or False"
   ]
  },
  {
   "cell_type": "code",
   "execution_count": 29,
   "id": "dd6e8d97-1d90-47dc-bd61-931c6ca4ca8c",
   "metadata": {},
   "outputs": [
    {
     "data": {
      "text/plain": [
       "True"
      ]
     },
     "execution_count": 29,
     "metadata": {},
     "output_type": "execute_result"
    }
   ],
   "source": [
    "False or True"
   ]
  },
  {
   "cell_type": "code",
   "execution_count": 30,
   "id": "e58c6018-7a6a-4a44-bbab-b4819908f0de",
   "metadata": {},
   "outputs": [
    {
     "data": {
      "text/plain": [
       "False"
      ]
     },
     "execution_count": 30,
     "metadata": {},
     "output_type": "execute_result"
    }
   ],
   "source": [
    "False and False"
   ]
  },
  {
   "cell_type": "markdown",
   "id": "83686c5f-dd57-4d1f-a1a7-34a894caf113",
   "metadata": {},
   "source": [
    "# NOT"
   ]
  },
  {
   "cell_type": "code",
   "execution_count": 31,
   "id": "8cf05fa4-8efa-45f8-81c1-e943b25f5f0d",
   "metadata": {},
   "outputs": [
    {
     "data": {
      "text/plain": [
       "False"
      ]
     },
     "execution_count": 31,
     "metadata": {},
     "output_type": "execute_result"
    }
   ],
   "source": [
    "not True"
   ]
  },
  {
   "cell_type": "code",
   "execution_count": 33,
   "id": "8786f329-5a15-41c3-a3b4-dd9c1bc024c6",
   "metadata": {},
   "outputs": [
    {
     "data": {
      "text/plain": [
       "True"
      ]
     },
     "execution_count": 33,
     "metadata": {},
     "output_type": "execute_result"
    }
   ],
   "source": [
    "not False "
   ]
  },
  {
   "cell_type": "markdown",
   "id": "9e242246-fa08-46d1-ae3c-7b17f219d69c",
   "metadata": {},
   "source": [
    "# Type Casting"
   ]
  },
  {
   "cell_type": "code",
   "execution_count": 34,
   "id": "6a2cc9af-41bb-4976-b142-66ec6f10bef4",
   "metadata": {},
   "outputs": [],
   "source": [
    "x = '5'"
   ]
  },
  {
   "cell_type": "code",
   "execution_count": 35,
   "id": "65d8095c-b96f-4bec-a0b4-b11df2a3852a",
   "metadata": {},
   "outputs": [
    {
     "data": {
      "text/plain": [
       "str"
      ]
     },
     "execution_count": 35,
     "metadata": {},
     "output_type": "execute_result"
    }
   ],
   "source": [
    "type(x)"
   ]
  },
  {
   "cell_type": "code",
   "execution_count": 36,
   "id": "024657a5-3e5c-484b-b68c-d2e132849df9",
   "metadata": {},
   "outputs": [],
   "source": [
    "result = int(x)"
   ]
  },
  {
   "cell_type": "code",
   "execution_count": 37,
   "id": "0466c03a-65cd-4d27-8229-79f2e9d5f12c",
   "metadata": {},
   "outputs": [
    {
     "data": {
      "text/plain": [
       "5"
      ]
     },
     "execution_count": 37,
     "metadata": {},
     "output_type": "execute_result"
    }
   ],
   "source": [
    "result"
   ]
  },
  {
   "cell_type": "code",
   "execution_count": 38,
   "id": "a39c0bec-6347-4624-8be6-2ee1f976aa2e",
   "metadata": {},
   "outputs": [
    {
     "data": {
      "text/plain": [
       "int"
      ]
     },
     "execution_count": 38,
     "metadata": {},
     "output_type": "execute_result"
    }
   ],
   "source": [
    "type(result)"
   ]
  },
  {
   "cell_type": "code",
   "execution_count": 39,
   "id": "271d667c-7ed8-4215-a6c8-ca7300532609",
   "metadata": {},
   "outputs": [
    {
     "ename": "ValueError",
     "evalue": "invalid literal for int() with base 10: 'hello'",
     "output_type": "error",
     "traceback": [
      "\u001b[1;31m---------------------------------------------------------------------------\u001b[0m",
      "\u001b[1;31mValueError\u001b[0m                                Traceback (most recent call last)",
      "Cell \u001b[1;32mIn[39], line 1\u001b[0m\n\u001b[1;32m----> 1\u001b[0m \u001b[38;5;28mint\u001b[39m(\u001b[38;5;124m'\u001b[39m\u001b[38;5;124mhello\u001b[39m\u001b[38;5;124m'\u001b[39m)\n",
      "\u001b[1;31mValueError\u001b[0m: invalid literal for int() with base 10: 'hello'"
     ]
    }
   ],
   "source": [
    "int('hello')"
   ]
  },
  {
   "cell_type": "code",
   "execution_count": 40,
   "id": "9fc73f08-3927-4223-ab9e-0d8e755c8ec4",
   "metadata": {},
   "outputs": [
    {
     "data": {
      "text/plain": [
       "10"
      ]
     },
     "execution_count": 40,
     "metadata": {},
     "output_type": "execute_result"
    }
   ],
   "source": [
    "int(10.2322)"
   ]
  },
  {
   "cell_type": "code",
   "execution_count": 41,
   "id": "11c85565-7add-4763-bc5b-bb5747a4ce7e",
   "metadata": {},
   "outputs": [
    {
     "data": {
      "text/plain": [
       "19.0"
      ]
     },
     "execution_count": 41,
     "metadata": {},
     "output_type": "execute_result"
    }
   ],
   "source": [
    "float(19)"
   ]
  },
  {
   "cell_type": "code",
   "execution_count": 45,
   "id": "46387dc3-693a-45e3-acd4-8830b3706c86",
   "metadata": {},
   "outputs": [],
   "source": [
    "s = 23"
   ]
  },
  {
   "cell_type": "raw",
   "id": "a4952002-2dc0-434a-9883-286e1954f24a",
   "metadata": {},
   "source": [
    "str(s)"
   ]
  },
  {
   "cell_type": "code",
   "execution_count": null,
   "id": "73b1ca6f-0c5f-4f8c-a7e1-c67568a347f8",
   "metadata": {},
   "outputs": [],
   "source": []
  }
 ],
 "metadata": {
  "kernelspec": {
   "display_name": "Python 3 (ipykernel)",
   "language": "python",
   "name": "python3"
  },
  "language_info": {
   "codemirror_mode": {
    "name": "ipython",
    "version": 3
   },
   "file_extension": ".py",
   "mimetype": "text/x-python",
   "name": "python",
   "nbconvert_exporter": "python",
   "pygments_lexer": "ipython3",
   "version": "3.12.7"
  }
 },
 "nbformat": 4,
 "nbformat_minor": 5
}
