{
 "cells": [
  {
   "cell_type": "code",
   "execution_count": 2,
   "id": "1b7496d5-3784-4555-84f6-3bcbb8469b6e",
   "metadata": {},
   "outputs": [
    {
     "name": "stdout",
     "output_type": "stream",
     "text": [
      "You have written wrong marks write in the range 0-100\n"
     ]
    }
   ],
   "source": [
    "marks = 150\n",
    "if marks >= 90 and marks <= 100:\n",
    "     print('A+')\n",
    "elif marks >= 70 and marks <= 90:\n",
    "     print('B')\n",
    "elif marks >= 35 and marks <= 70:\n",
    "     print('C')\n",
    "elif marks >= 0 and marks <= 35:\n",
    "     print('fail')\n",
    "else:\n",
    "     print('You have written wrong marks write in the range 0-100')"
   ]
  },
  {
   "cell_type": "code",
   "execution_count": 8,
   "id": "bcecb242-1bc6-46c8-b4a4-842daa27c69a",
   "metadata": {},
   "outputs": [
    {
     "name": "stdout",
     "output_type": "stream",
     "text": [
      "This is not my fav food\n"
     ]
    }
   ],
   "source": [
    "food = 'burger'\n",
    "if food == 'pizza':\n",
    "   print('Pizza is my fav food')\n",
    "else:   \n",
    "   print('This is not my fav food')"
   ]
  },
  {
   "cell_type": "code",
   "execution_count": 7,
   "id": "7f299214-2878-4a5f-8a5c-24f6363e7ecf",
   "metadata": {},
   "outputs": [
    {
     "data": {
      "text/plain": [
       "True"
      ]
     },
     "execution_count": 7,
     "metadata": {},
     "output_type": "execute_result"
    }
   ],
   "source": [
    "'pizza' == 'pizza'"
   ]
  },
  {
   "cell_type": "code",
   "execution_count": 14,
   "id": "12a328ed-90ec-45e8-859e-53288e6e20cd",
   "metadata": {},
   "outputs": [
    {
     "name": "stdin",
     "output_type": "stream",
     "text": [
      "Enter your user name admin\n",
      "Enter your password Hello123\n"
     ]
    },
    {
     "name": "stdout",
     "output_type": "stream",
     "text": [
      "Log in completed\n"
     ]
    }
   ],
   "source": [
    "user_name = input('Enter your user name')\n",
    "password = input('Enter your password')\n",
    "if user_name == 'admin' and password == 'Hello123': \n",
    "   print('Log in completed')\n",
    "else:\n",
    "   print('Wrong user name and password')"
   ]
  },
  {
   "cell_type": "code",
   "execution_count": 23,
   "id": "06ff48ae-8a11-4bfe-89ff-eaa906172e3a",
   "metadata": {},
   "outputs": [
    {
     "name": "stdin",
     "output_type": "stream",
     "text": [
      "Enter your couse name python\n"
     ]
    },
    {
     "name": "stdout",
     "output_type": "stream",
     "text": [
      "Yes python is Available\n"
     ]
    }
   ],
   "source": [
    "course = input('Enter your couse name')\n",
    "if course == 'python':\n",
    "   print('Yes python is Available')\n",
    "elif course == 'data analysis':\n",
    "   print('Yes data analysis course is Available')\n",
    "elif course == 'data science':\n",
    "   print('Yes data science course is Available')\n",
    "elif course == 'machine learning':\n",
    "   print('Yes machine learning course is Available')\n",
    "else:\n",
    "   print('Your course is not Available')"
   ]
  },
  {
   "cell_type": "code",
   "execution_count": null,
   "id": "19f3a536-6410-489f-a527-6bf6941dddc6",
   "metadata": {},
   "outputs": [],
   "source": []
  }
 ],
 "metadata": {
  "kernelspec": {
   "display_name": "Python 3 (ipykernel)",
   "language": "python",
   "name": "python3"
  },
  "language_info": {
   "codemirror_mode": {
    "name": "ipython",
    "version": 3
   },
   "file_extension": ".py",
   "mimetype": "text/x-python",
   "name": "python",
   "nbconvert_exporter": "python",
   "pygments_lexer": "ipython3",
   "version": "3.12.7"
  }
 },
 "nbformat": 4,
 "nbformat_minor": 5
}
