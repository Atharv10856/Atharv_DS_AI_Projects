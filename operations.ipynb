{
 "cells": [
  {
   "cell_type": "code",
   "execution_count": 1,
   "id": "caa0fe54-e485-4be1-952f-3e9794c02dd3",
   "metadata": {},
   "outputs": [
    {
     "data": {
      "text/plain": [
       "15"
      ]
     },
     "execution_count": 1,
     "metadata": {},
     "output_type": "execute_result"
    }
   ],
   "source": [
    "10 + 5"
   ]
  },
  {
   "cell_type": "code",
   "execution_count": 2,
   "id": "9cbf16a5-fcd7-4656-add2-ba85a0523948",
   "metadata": {},
   "outputs": [
    {
     "data": {
      "text/plain": [
       "56"
      ]
     },
     "execution_count": 2,
     "metadata": {},
     "output_type": "execute_result"
    }
   ],
   "source": [
    "8 * 7"
   ]
  },
  {
   "cell_type": "code",
   "execution_count": 3,
   "id": "f07909ee-f198-449a-a6a5-266b128c3210",
   "metadata": {},
   "outputs": [
    {
     "data": {
      "text/plain": [
       "5.0"
      ]
     },
     "execution_count": 3,
     "metadata": {},
     "output_type": "execute_result"
    }
   ],
   "source": [
    "10 / 2"
   ]
  },
  {
   "cell_type": "code",
   "execution_count": 4,
   "id": "6b914075-b76f-4103-8304-3148d9b367e3",
   "metadata": {},
   "outputs": [
    {
     "data": {
      "text/plain": [
       "0"
      ]
     },
     "execution_count": 4,
     "metadata": {},
     "output_type": "execute_result"
    }
   ],
   "source": [
    "10 % 2"
   ]
  },
  {
   "cell_type": "code",
   "execution_count": 5,
   "id": "c86dfd12-6b81-41df-8a78-99f213ea2d1a",
   "metadata": {},
   "outputs": [
    {
     "data": {
      "text/plain": [
       "'AtharvAtharvAtharvAtharvAtharv'"
      ]
     },
     "execution_count": 5,
     "metadata": {},
     "output_type": "execute_result"
    }
   ],
   "source": [
    "'Atharv' * 5"
   ]
  },
  {
   "cell_type": "code",
   "execution_count": 7,
   "id": "6f129e10-295f-4497-918f-8309c2241f16",
   "metadata": {},
   "outputs": [
    {
     "data": {
      "text/plain": [
       "15"
      ]
     },
     "execution_count": 7,
     "metadata": {},
     "output_type": "execute_result"
    }
   ],
   "source": [
    "10 + 5  # int + int"
   ]
  },
  {
   "cell_type": "code",
   "execution_count": 8,
   "id": "4a3c49e9-79d4-43df-a83c-e4069bf64202",
   "metadata": {},
   "outputs": [
    {
     "data": {
      "text/plain": [
       "'HelloPython'"
      ]
     },
     "execution_count": 8,
     "metadata": {},
     "output_type": "execute_result"
    }
   ],
   "source": [
    "'Hello' + 'Python'  # str + str "
   ]
  },
  {
   "cell_type": "code",
   "execution_count": 10,
   "id": "0b46895f-5f5e-4f98-a4f1-133321cb1889",
   "metadata": {},
   "outputs": [
    {
     "data": {
      "text/plain": [
       "6.5"
      ]
     },
     "execution_count": 10,
     "metadata": {},
     "output_type": "execute_result"
    }
   ],
   "source": [
    "5 + 1.5  # int + float"
   ]
  },
  {
   "cell_type": "markdown",
   "id": "080aec79-3a3a-4c00-8d26-7c48e236df93",
   "metadata": {},
   "source": [
    "# Variables"
   ]
  },
  {
   "cell_type": "code",
   "execution_count": 11,
   "id": "384997da-8d37-48ee-9601-d4e905f20baa",
   "metadata": {},
   "outputs": [],
   "source": [
    "x = 10  # x is a variable and 10 is object "
   ]
  },
  {
   "cell_type": "code",
   "execution_count": 13,
   "id": "fb81dccd-4026-405b-b686-51678528b862",
   "metadata": {},
   "outputs": [],
   "source": [
    "a = 5\n",
    "b = 2\n",
    "c = a + b "
   ]
  },
  {
   "cell_type": "code",
   "execution_count": 14,
   "id": "beaa625c-d833-4088-9728-21f2871c334b",
   "metadata": {},
   "outputs": [
    {
     "data": {
      "text/plain": [
       "7"
      ]
     },
     "execution_count": 14,
     "metadata": {},
     "output_type": "execute_result"
    }
   ],
   "source": [
    "c"
   ]
  },
  {
   "cell_type": "code",
   "execution_count": 1,
   "id": "ebb28f0d-b22c-4070-8480-088c85561334",
   "metadata": {},
   "outputs": [],
   "source": [
    "num = 10"
   ]
  },
  {
   "cell_type": "code",
   "execution_count": 2,
   "id": "803e170f-9d35-4e5d-aa58-87ce99a39ab9",
   "metadata": {},
   "outputs": [
    {
     "data": {
      "text/plain": [
       "10"
      ]
     },
     "execution_count": 2,
     "metadata": {},
     "output_type": "execute_result"
    }
   ],
   "source": [
    "num"
   ]
  },
  {
   "cell_type": "code",
   "execution_count": 3,
   "id": "c73ebe37-f304-4404-b2da-8153325be3c6",
   "metadata": {},
   "outputs": [],
   "source": [
    "name = 'Atharv'"
   ]
  },
  {
   "cell_type": "code",
   "execution_count": 4,
   "id": "01c8fbfb-5b33-4367-987c-afd360fda2b4",
   "metadata": {},
   "outputs": [
    {
     "data": {
      "text/plain": [
       "'Atharv'"
      ]
     },
     "execution_count": 4,
     "metadata": {},
     "output_type": "execute_result"
    }
   ],
   "source": [
    "name"
   ]
  },
  {
   "cell_type": "code",
   "execution_count": 5,
   "id": "eb4ab301-9a8c-4c42-8d75-93c6c5f361d2",
   "metadata": {},
   "outputs": [],
   "source": [
    "first_name = 'Atharv'\n",
    "last_name = 'Tonape'"
   ]
  },
  {
   "cell_type": "code",
   "execution_count": 6,
   "id": "f9d95a07-d584-4803-b0e3-dda8bfdf254e",
   "metadata": {},
   "outputs": [
    {
     "data": {
      "text/plain": [
       "'Atharv'"
      ]
     },
     "execution_count": 6,
     "metadata": {},
     "output_type": "execute_result"
    }
   ],
   "source": [
    "first_name"
   ]
  },
  {
   "cell_type": "code",
   "execution_count": 7,
   "id": "48e98f10-8d86-4751-8ccb-4421cc258f6b",
   "metadata": {},
   "outputs": [
    {
     "data": {
      "text/plain": [
       "'Tonape'"
      ]
     },
     "execution_count": 7,
     "metadata": {},
     "output_type": "execute_result"
    }
   ],
   "source": [
    "last_name"
   ]
  },
  {
   "cell_type": "code",
   "execution_count": 8,
   "id": "0367773a-13ca-4f84-92f3-99d5dfb37e9a",
   "metadata": {},
   "outputs": [
    {
     "data": {
      "text/plain": [
       "'AtharvTonape'"
      ]
     },
     "execution_count": 8,
     "metadata": {},
     "output_type": "execute_result"
    }
   ],
   "source": [
    "first_name + last_name"
   ]
  },
  {
   "cell_type": "code",
   "execution_count": 9,
   "id": "33ddfc25-0bbe-40b7-a92a-59214fe7c5a8",
   "metadata": {},
   "outputs": [
    {
     "data": {
      "text/plain": [
       "'Atharv Tonape'"
      ]
     },
     "execution_count": 9,
     "metadata": {},
     "output_type": "execute_result"
    }
   ],
   "source": [
    "first_name + ' ' + last_name"
   ]
  },
  {
   "cell_type": "code",
   "execution_count": 10,
   "id": "a4f8d7d9-932b-4f4a-8ac1-230213408f50",
   "metadata": {},
   "outputs": [
    {
     "ename": "SyntaxError",
     "evalue": "cannot assign to literal here. Maybe you meant '==' instead of '='? (3152282288.py, line 1)",
     "output_type": "error",
     "traceback": [
      "\u001b[1;36m  Cell \u001b[1;32mIn[10], line 1\u001b[1;36m\u001b[0m\n\u001b[1;33m    2 = 'Hello'\u001b[0m\n\u001b[1;37m    ^\u001b[0m\n\u001b[1;31mSyntaxError\u001b[0m\u001b[1;31m:\u001b[0m cannot assign to literal here. Maybe you meant '==' instead of '='?\n"
     ]
    }
   ],
   "source": [
    "2 = 'Hello'"
   ]
  },
  {
   "cell_type": "code",
   "execution_count": 11,
   "id": "7f858398-1b41-4b7f-a991-4534d2597b7c",
   "metadata": {},
   "outputs": [
    {
     "ename": "SyntaxError",
     "evalue": "cannot assign to literal here. Maybe you meant '==' instead of '='? (1518929445.py, line 1)",
     "output_type": "error",
     "traceback": [
      "\u001b[1;36m  Cell \u001b[1;32mIn[11], line 1\u001b[1;36m\u001b[0m\n\u001b[1;33m    3 = 5\u001b[0m\n\u001b[1;37m    ^\u001b[0m\n\u001b[1;31mSyntaxError\u001b[0m\u001b[1;31m:\u001b[0m cannot assign to literal here. Maybe you meant '==' instead of '='?\n"
     ]
    }
   ],
   "source": [
    "3 = 5"
   ]
  },
  {
   "cell_type": "code",
   "execution_count": 12,
   "id": "319c8acc-d46d-4ed5-9f48-ace4980330e7",
   "metadata": {},
   "outputs": [],
   "source": [
    "a_2 = 'Hello'"
   ]
  },
  {
   "cell_type": "code",
   "execution_count": 13,
   "id": "cebb0edc-4d27-47b5-9531-f3a33d09402d",
   "metadata": {},
   "outputs": [
    {
     "data": {
      "text/plain": [
       "'Hello'"
      ]
     },
     "execution_count": 13,
     "metadata": {},
     "output_type": "execute_result"
    }
   ],
   "source": [
    "a_2"
   ]
  },
  {
   "cell_type": "code",
   "execution_count": 14,
   "id": "7a817a50-9fb7-437d-b78e-6b5e96f691d5",
   "metadata": {},
   "outputs": [
    {
     "ename": "SyntaxError",
     "evalue": "invalid syntax (809333050.py, line 1)",
     "output_type": "error",
     "traceback": [
      "\u001b[1;36m  Cell \u001b[1;32mIn[14], line 1\u001b[1;36m\u001b[0m\n\u001b[1;33m    @ = 7282\u001b[0m\n\u001b[1;37m      ^\u001b[0m\n\u001b[1;31mSyntaxError\u001b[0m\u001b[1;31m:\u001b[0m invalid syntax\n"
     ]
    }
   ],
   "source": [
    "@ = 7282"
   ]
  },
  {
   "cell_type": "code",
   "execution_count": 15,
   "id": "52c9244e-c117-45bc-ae59-861c38c8c5b5",
   "metadata": {},
   "outputs": [],
   "source": [
    "# User input"
   ]
  },
  {
   "cell_type": "code",
   "execution_count": 16,
   "id": "c24b4c8d-ed03-4247-a038-b1021ab684a0",
   "metadata": {},
   "outputs": [
    {
     "name": "stdin",
     "output_type": "stream",
     "text": [
      "Write your name Atharv\n"
     ]
    },
    {
     "name": "stdout",
     "output_type": "stream",
     "text": [
      "Your name is Atharv\n"
     ]
    }
   ],
   "source": [
    "name = input('Write your name')\n",
    "print('Your name is',name)"
   ]
  },
  {
   "cell_type": "code",
   "execution_count": 17,
   "id": "ba77c66d-6a81-4485-8a23-0cbfecdf790c",
   "metadata": {},
   "outputs": [
    {
     "data": {
      "text/plain": [
       "'Atharv'"
      ]
     },
     "execution_count": 17,
     "metadata": {},
     "output_type": "execute_result"
    }
   ],
   "source": [
    "name"
   ]
  },
  {
   "cell_type": "code",
   "execution_count": 18,
   "id": "6472459a-bcc8-450a-83c7-7c4627d07607",
   "metadata": {},
   "outputs": [
    {
     "name": "stdout",
     "output_type": "stream",
     "text": [
      "I am writing my name and my name is Atharv\n"
     ]
    }
   ],
   "source": [
    "print(f'I am writing my name and my name is {name}')"
   ]
  },
  {
   "cell_type": "code",
   "execution_count": 20,
   "id": "7fff5777-4499-4f38-b40c-b2956b197c9b",
   "metadata": {},
   "outputs": [
    {
     "name": "stdout",
     "output_type": "stream",
     "text": [
      "Your first name is Atharv and Your last name is Tonape\n"
     ]
    }
   ],
   "source": [
    "print(f'Your first name is {first_name} and Your last name is {last_name}')"
   ]
  },
  {
   "cell_type": "code",
   "execution_count": 21,
   "id": "236be272-6ba8-4f4f-a322-24961e07a508",
   "metadata": {},
   "outputs": [
    {
     "data": {
      "text/plain": [
       "'Atharv'"
      ]
     },
     "execution_count": 21,
     "metadata": {},
     "output_type": "execute_result"
    }
   ],
   "source": [
    "name"
   ]
  },
  {
   "cell_type": "code",
   "execution_count": 2,
   "id": "20b6ffda-5f39-46e0-8272-2e7b77eefa9e",
   "metadata": {},
   "outputs": [
    {
     "name": "stdin",
     "output_type": "stream",
     "text": [
      "Write your city name solapur\n"
     ]
    },
    {
     "name": "stdout",
     "output_type": "stream",
     "text": [
      "Your best city name-solapur\n"
     ]
    }
   ],
   "source": [
    "city = input('Write your city name')\n",
    "print(f'Your best city name-{city}')"
   ]
  },
  {
   "cell_type": "code",
   "execution_count": 41,
   "id": "73117709-d927-4fed-8f0b-f0396a6c454f",
   "metadata": {},
   "outputs": [
    {
     "data": {
      "text/plain": [
       "'solapur'"
      ]
     },
     "execution_count": 41,
     "metadata": {},
     "output_type": "execute_result"
    }
   ],
   "source": [
    "city"
   ]
  },
  {
   "cell_type": "code",
   "execution_count": 43,
   "id": "d15f1f04-44a0-46b3-904c-4a1db360b80e",
   "metadata": {},
   "outputs": [
    {
     "ename": "TypeError",
     "evalue": "'str' object is not callable",
     "output_type": "error",
     "traceback": [
      "\u001b[1;31m---------------------------------------------------------------------------\u001b[0m",
      "\u001b[1;31mTypeError\u001b[0m                                 Traceback (most recent call last)",
      "Cell \u001b[1;32mIn[43], line 1\u001b[0m\n\u001b[1;32m----> 1\u001b[0m city (\u001b[38;5;28mtype\u001b[39m)\n",
      "\u001b[1;31mTypeError\u001b[0m: 'str' object is not callable"
     ]
    }
   ],
   "source": [
    "city (type)"
   ]
  },
  {
   "cell_type": "code",
   "execution_count": 44,
   "id": "1a570ec9-158d-4621-8981-3e004ff9f6f7",
   "metadata": {},
   "outputs": [
    {
     "data": {
      "text/plain": [
       "'145'"
      ]
     },
     "execution_count": 44,
     "metadata": {},
     "output_type": "execute_result"
    }
   ],
   "source": [
    "'145'"
   ]
  },
  {
   "cell_type": "code",
   "execution_count": 45,
   "id": "297c1e2e-e1dd-4a83-b874-4d3ed1cf3c7a",
   "metadata": {},
   "outputs": [
    {
     "data": {
      "text/plain": [
       "str"
      ]
     },
     "execution_count": 45,
     "metadata": {},
     "output_type": "execute_result"
    }
   ],
   "source": [
    "type('546')"
   ]
  },
  {
   "cell_type": "code",
   "execution_count": 46,
   "id": "625ef7e0-aab1-4570-abd9-1575b44b212c",
   "metadata": {},
   "outputs": [
    {
     "data": {
      "text/plain": [
       "int"
      ]
     },
     "execution_count": 46,
     "metadata": {},
     "output_type": "execute_result"
    }
   ],
   "source": [
    "type(546)"
   ]
  },
  {
   "cell_type": "code",
   "execution_count": 47,
   "id": "0df79e4b-f614-4949-8b0d-0d13f9bd91db",
   "metadata": {},
   "outputs": [
    {
     "name": "stdin",
     "output_type": "stream",
     "text": [
      "Write your height in feet 6.0\n"
     ]
    }
   ],
   "source": [
    "height = input('Write your height in feet')"
   ]
  },
  {
   "cell_type": "code",
   "execution_count": 48,
   "id": "c9ad8f80-2a03-4f48-8edf-3cc2ec39956f",
   "metadata": {},
   "outputs": [
    {
     "data": {
      "text/plain": [
       "'6.0'"
      ]
     },
     "execution_count": 48,
     "metadata": {},
     "output_type": "execute_result"
    }
   ],
   "source": [
    "height"
   ]
  },
  {
   "cell_type": "code",
   "execution_count": 49,
   "id": "a5feb39d-9df6-44ea-a2d2-08521d508eb1",
   "metadata": {},
   "outputs": [
    {
     "data": {
      "text/plain": [
       "str"
      ]
     },
     "execution_count": 49,
     "metadata": {},
     "output_type": "execute_result"
    }
   ],
   "source": [
    "type(height)"
   ]
  },
  {
   "cell_type": "code",
   "execution_count": 50,
   "id": "e63809cc-6db7-4154-b825-a245f68ef89d",
   "metadata": {},
   "outputs": [
    {
     "name": "stdin",
     "output_type": "stream",
     "text": [
      "Write your age 18\n"
     ]
    }
   ],
   "source": [
    "age = int(input('Write your age'))"
   ]
  },
  {
   "cell_type": "code",
   "execution_count": 51,
   "id": "82cc91a5-a198-4372-b2c6-773e01c96a9e",
   "metadata": {},
   "outputs": [
    {
     "data": {
      "text/plain": [
       "18"
      ]
     },
     "execution_count": 51,
     "metadata": {},
     "output_type": "execute_result"
    }
   ],
   "source": [
    "age"
   ]
  },
  {
   "cell_type": "code",
   "execution_count": 52,
   "id": "185f2610-c127-48cc-8ef7-a2e5c0adaf16",
   "metadata": {},
   "outputs": [
    {
     "data": {
      "text/plain": [
       "int"
      ]
     },
     "execution_count": 52,
     "metadata": {},
     "output_type": "execute_result"
    }
   ],
   "source": [
    "type(age)"
   ]
  },
  {
   "cell_type": "code",
   "execution_count": 53,
   "id": "2d036fa2-0f7c-48d7-83c5-f5d496041b29",
   "metadata": {},
   "outputs": [
    {
     "name": "stdin",
     "output_type": "stream",
     "text": [
      "Write your age five\n"
     ]
    },
    {
     "ename": "ValueError",
     "evalue": "invalid literal for int() with base 10: 'five'",
     "output_type": "error",
     "traceback": [
      "\u001b[1;31m---------------------------------------------------------------------------\u001b[0m",
      "\u001b[1;31mValueError\u001b[0m                                Traceback (most recent call last)",
      "Cell \u001b[1;32mIn[53], line 1\u001b[0m\n\u001b[1;32m----> 1\u001b[0m weight \u001b[38;5;241m=\u001b[39m \u001b[38;5;28mint\u001b[39m(\u001b[38;5;28minput\u001b[39m(\u001b[38;5;124m'\u001b[39m\u001b[38;5;124mWrite your age\u001b[39m\u001b[38;5;124m'\u001b[39m))\n",
      "\u001b[1;31mValueError\u001b[0m: invalid literal for int() with base 10: 'five'"
     ]
    }
   ],
   "source": [
    "weight = int(input('Write your age'))"
   ]
  },
  {
   "cell_type": "code",
   "execution_count": 1,
   "id": "6ecdca81-39ba-4fa5-a49d-d88901a48415",
   "metadata": {},
   "outputs": [
    {
     "name": "stdin",
     "output_type": "stream",
     "text": [
      "Write your day 11\n",
      "Write your month 11\n",
      "Write your year 2032\n"
     ]
    },
    {
     "name": "stdout",
     "output_type": "stream",
     "text": [
      "Your birth date is 11-11-2032\n"
     ]
    }
   ],
   "source": [
    "day = int(input('Write your day'))\n",
    "month = int(input('Write your month'))\n",
    "year = int(input('Write your year'))\n",
    "print(f'Your birth date is {day}-{month}-{year}')"
   ]
  },
  {
   "cell_type": "code",
   "execution_count": 62,
   "id": "f426ce13-6f75-4e30-965b-c6b9e9236c1d",
   "metadata": {},
   "outputs": [
    {
     "name": "stdin",
     "output_type": "stream",
     "text": [
      " 6.0\n"
     ]
    }
   ],
   "source": [
    "height = float(input())"
   ]
  },
  {
   "cell_type": "code",
   "execution_count": 63,
   "id": "801c5d75-95d2-40c3-bbd2-edc7fd37a753",
   "metadata": {},
   "outputs": [
    {
     "data": {
      "text/plain": [
       "6.0"
      ]
     },
     "execution_count": 63,
     "metadata": {},
     "output_type": "execute_result"
    }
   ],
   "source": [
    "height"
   ]
  },
  {
   "cell_type": "code",
   "execution_count": 64,
   "id": "7986e78c-6fca-4491-b28c-867a630f1ba2",
   "metadata": {},
   "outputs": [
    {
     "name": "stdin",
     "output_type": "stream",
     "text": [
      " 85\n"
     ]
    }
   ],
   "source": [
    "weight = float(input())"
   ]
  },
  {
   "cell_type": "code",
   "execution_count": 65,
   "id": "c8278d48-190d-42bd-aaf1-87331ad3d437",
   "metadata": {},
   "outputs": [
    {
     "data": {
      "text/plain": [
       "85.0"
      ]
     },
     "execution_count": 65,
     "metadata": {},
     "output_type": "execute_result"
    }
   ],
   "source": [
    "weight"
   ]
  },
  {
   "cell_type": "code",
   "execution_count": null,
   "id": "140f74d3-e8ea-4c60-9d0e-b5e0e7ab45b3",
   "metadata": {},
   "outputs": [],
   "source": []
  }
 ],
 "metadata": {
  "kernelspec": {
   "display_name": "Python 3 (ipykernel)",
   "language": "python",
   "name": "python3"
  },
  "language_info": {
   "codemirror_mode": {
    "name": "ipython",
    "version": 3
   },
   "file_extension": ".py",
   "mimetype": "text/x-python",
   "name": "python",
   "nbconvert_exporter": "python",
   "pygments_lexer": "ipython3",
   "version": "3.12.7"
  }
 },
 "nbformat": 4,
 "nbformat_minor": 5
}
