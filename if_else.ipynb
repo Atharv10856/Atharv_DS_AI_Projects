{
 "cells": [
  {
   "cell_type": "code",
   "execution_count": 10,
   "id": "11201d4c-3ca2-4bdb-90ef-c501cecd3e14",
   "metadata": {},
   "outputs": [],
   "source": [
    "age = 19"
   ]
  },
  {
   "cell_type": "code",
   "execution_count": 11,
   "id": "e3be4512-8cbe-4214-a94d-4b08cb712f79",
   "metadata": {},
   "outputs": [
    {
     "data": {
      "text/plain": [
       "19"
      ]
     },
     "execution_count": 11,
     "metadata": {},
     "output_type": "execute_result"
    }
   ],
   "source": [
    "age"
   ]
  },
  {
   "cell_type": "code",
   "execution_count": 12,
   "id": "2b143e3e-d267-48a5-9973-e177d16a02de",
   "metadata": {},
   "outputs": [
    {
     "name": "stdout",
     "output_type": "stream",
     "text": [
      "You can drive Car\n"
     ]
    }
   ],
   "source": [
    "if age > 18:\n",
    "    print('You can drive Car')\n",
    "else:\n",
    "    print('You are not allowed to drive car')"
   ]
  },
  {
   "cell_type": "code",
   "execution_count": 13,
   "id": "eef7c30a-6414-4b17-803b-c41a54fbe41d",
   "metadata": {},
   "outputs": [
    {
     "data": {
      "text/plain": [
       "True"
      ]
     },
     "execution_count": 13,
     "metadata": {},
     "output_type": "execute_result"
    }
   ],
   "source": [
    "age > 18"
   ]
  },
  {
   "cell_type": "code",
   "execution_count": 19,
   "id": "cf61c5be-3026-401d-b03b-d8ff454db303",
   "metadata": {},
   "outputs": [],
   "source": [
    "marks = 6"
   ]
  },
  {
   "cell_type": "code",
   "execution_count": 20,
   "id": "7a6bb9b2-5fb9-4b91-a009-d84f0a187ffb",
   "metadata": {},
   "outputs": [
    {
     "name": "stdout",
     "output_type": "stream",
     "text": [
      "fail\n"
     ]
    }
   ],
   "source": [
    "if marks > 35:\n",
    "   print('Pass')\n",
    "else:\n",
    "   print('fail')"
   ]
  },
  {
   "cell_type": "code",
   "execution_count": 21,
   "id": "7ee15d9c-4b2a-4529-bc6e-d6eba49f856f",
   "metadata": {},
   "outputs": [],
   "source": [
    "# Multiple Condetions"
   ]
  },
  {
   "cell_type": "code",
   "execution_count": 26,
   "id": "1d153069-1432-4ce8-9f81-3bf769039b7f",
   "metadata": {},
   "outputs": [],
   "source": [
    "marks = 95"
   ]
  },
  {
   "cell_type": "code",
   "execution_count": 27,
   "id": "42bdda7f-01f7-40d6-a829-2d52b1de71b6",
   "metadata": {},
   "outputs": [
    {
     "name": "stdout",
     "output_type": "stream",
     "text": [
      "A+\n"
     ]
    }
   ],
   "source": [
    "if marks > 90:\n",
    "   print('A+')\n",
    "elif marks > 70:\n",
    "   print('B')\n",
    "elif marks > 35:\n",
    "   print('C')\n",
    "else:\n",
    "   print('fail')"
   ]
  },
  {
   "cell_type": "code",
   "execution_count": 36,
   "id": "e5f42c5e-c3ca-4faf-a6c5-f075a586adf1",
   "metadata": {},
   "outputs": [],
   "source": [
    "age = 55"
   ]
  },
  {
   "cell_type": "code",
   "execution_count": 37,
   "id": "11552c97-3a00-48bc-ae00-59c9bed0df66",
   "metadata": {},
   "outputs": [
    {
     "name": "stdout",
     "output_type": "stream",
     "text": [
      "Working Person\n"
     ]
    }
   ],
   "source": [
    "if age > 60:\n",
    "    print('Aged Person')\n",
    "elif age > 30:\n",
    "    print('Working Person')\n",
    "elif age > 18:\n",
    "    print('College Student')\n",
    "else:\n",
    "    print('Child')"
   ]
  },
  {
   "cell_type": "code",
   "execution_count": 38,
   "id": "e2b99f42-1f3d-4474-9818-d069c475c930",
   "metadata": {},
   "outputs": [],
   "source": [
    "# Even or odd"
   ]
  },
  {
   "cell_type": "code",
   "execution_count": 40,
   "id": "7189d523-2bda-4e35-ac6c-1a0db75a9be5",
   "metadata": {},
   "outputs": [
    {
     "ename": "SyntaxError",
     "evalue": "expected ':' (331446476.py, line 2)",
     "output_type": "error",
     "traceback": [
      "\u001b[1;36m  Cell \u001b[1;32mIn[40], line 2\u001b[1;36m\u001b[0m\n\u001b[1;33m    if num % 2 == 0\u001b[0m\n\u001b[1;37m                   ^\u001b[0m\n\u001b[1;31mSyntaxError\u001b[0m\u001b[1;31m:\u001b[0m expected ':'\n"
     ]
    }
   ],
   "source": [
    "num = int(input('Enter Number'))\n",
    "if num % 2 == 0\n",
    "   print('Even')\n",
    "else\n",
    "   print('Odd')"
   ]
  },
  {
   "cell_type": "code",
   "execution_count": null,
   "id": "a765d51d-cce6-4d48-8d37-8e0aa1c988b3",
   "metadata": {},
   "outputs": [],
   "source": []
  }
 ],
 "metadata": {
  "kernelspec": {
   "display_name": "Python 3 (ipykernel)",
   "language": "python",
   "name": "python3"
  },
  "language_info": {
   "codemirror_mode": {
    "name": "ipython",
    "version": 3
   },
   "file_extension": ".py",
   "mimetype": "text/x-python",
   "name": "python",
   "nbconvert_exporter": "python",
   "pygments_lexer": "ipython3",
   "version": "3.12.7"
  }
 },
 "nbformat": 4,
 "nbformat_minor": 5
}
