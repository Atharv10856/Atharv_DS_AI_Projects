{
 "cells": [
  {
   "cell_type": "code",
   "execution_count": 5,
   "id": "869e6abb-fe06-4738-9ba0-8bf16af092cd",
   "metadata": {},
   "outputs": [
    {
     "name": "stdout",
     "output_type": "stream",
     "text": [
      "0\n",
      "1\n",
      "3\n",
      "6\n",
      "10\n",
      "15\n",
      "21\n",
      "28\n",
      "36\n",
      "45\n",
      "55\n",
      "66\n",
      "78\n",
      "91\n",
      "105\n"
     ]
    }
   ],
   "source": [
    "sum = 0\n",
    "for i in range(1,16):\n",
    "    print(sum)\n",
    "    sum = sum + i"
   ]
  },
  {
   "cell_type": "code",
   "execution_count": 6,
   "id": "df14393b-6328-403b-bf92-f9c81224b19b",
   "metadata": {},
   "outputs": [
    {
     "data": {
      "text/plain": [
       "120"
      ]
     },
     "execution_count": 6,
     "metadata": {},
     "output_type": "execute_result"
    }
   ],
   "source": [
    "sum"
   ]
  },
  {
   "cell_type": "code",
   "execution_count": 7,
   "id": "a56868cd-5cde-4172-8a96-28fdb0ec4af9",
   "metadata": {},
   "outputs": [
    {
     "name": "stdout",
     "output_type": "stream",
     "text": [
      "2 1\n",
      "3 3\n",
      "4 6\n",
      "5 10\n",
      "6 15\n",
      "7 21\n",
      "8 28\n",
      "9 36\n",
      "10 45\n",
      "11 55\n",
      "12 66\n",
      "13 78\n",
      "14 91\n",
      "15 105\n",
      "16 120\n"
     ]
    }
   ],
   "source": [
    "num = 1\n",
    "total = 0\n",
    "while num < 16:\n",
    "    total = total + num\n",
    "    num = num + 1\n",
    "    print(num, total)\n"
   ]
  },
  {
   "cell_type": "code",
   "execution_count": 4,
   "id": "ac4a83c6-6538-4295-8020-e780b5b01910",
   "metadata": {},
   "outputs": [],
   "source": [
    "l = [1,2,3,4,5,6,7,8,9]"
   ]
  },
  {
   "cell_type": "code",
   "execution_count": 8,
   "id": "01ac6124-7339-4b3f-a7a9-bf57a037dce1",
   "metadata": {},
   "outputs": [
    {
     "name": "stdout",
     "output_type": "stream",
     "text": [
      "1 Odd number added in sum_odd\n",
      "2 Even number added in sum_even\n",
      "3 Odd number added in sum_odd\n",
      "4 Even number added in sum_even\n",
      "5 Odd number added in sum_odd\n",
      "6 Even number added in sum_even\n",
      "7 Odd number added in sum_odd\n",
      "8 Even number added in sum_even\n",
      "9 Odd number added in sum_odd\n"
     ]
    }
   ],
   "source": [
    "sum_even = 0\n",
    "sum_odd = 0\n",
    "for i in l:\n",
    "    if i % 2 == 0:\n",
    "        sum_even = sum_even + i\n",
    "        print(i, 'Even number added in sum_even')\n",
    "    else:\n",
    "        sum_odd = sum_odd + i\n",
    "        print(i, 'Odd number added in sum_odd')\n",
    "        "
   ]
  },
  {
   "cell_type": "code",
   "execution_count": 9,
   "id": "8dc7b4b3-b844-4d62-a23d-65aba5565142",
   "metadata": {},
   "outputs": [
    {
     "data": {
      "text/plain": [
       "20"
      ]
     },
     "execution_count": 9,
     "metadata": {},
     "output_type": "execute_result"
    }
   ],
   "source": [
    "sum_even"
   ]
  },
  {
   "cell_type": "code",
   "execution_count": 10,
   "id": "6e7fa787-5a2d-4b9f-826a-94925cfe8b9b",
   "metadata": {},
   "outputs": [
    {
     "data": {
      "text/plain": [
       "25"
      ]
     },
     "execution_count": 10,
     "metadata": {},
     "output_type": "execute_result"
    }
   ],
   "source": [
    "sum_odd"
   ]
  },
  {
   "cell_type": "markdown",
   "id": "fcbe0395-c377-49af-85fc-d34db98b2324",
   "metadata": {},
   "source": [
    "# Break"
   ]
  },
  {
   "cell_type": "code",
   "execution_count": 11,
   "id": "eaffbbf9-ff5d-4832-89db-594e4f4100b2",
   "metadata": {},
   "outputs": [
    {
     "data": {
      "text/plain": [
       "[1, 2, 3, 4, 5, 6, 7, 8, 9]"
      ]
     },
     "execution_count": 11,
     "metadata": {},
     "output_type": "execute_result"
    }
   ],
   "source": [
    "l"
   ]
  },
  {
   "cell_type": "code",
   "execution_count": 13,
   "id": "186d8685-e44f-452c-818f-f83b2cd4d558",
   "metadata": {},
   "outputs": [
    {
     "name": "stdout",
     "output_type": "stream",
     "text": [
      "Code is Ongoing 1\n",
      "Code is Ongoing 2\n",
      "Code is Ongoing 3\n"
     ]
    }
   ],
   "source": [
    "for i in l:\n",
    "    if i == 4:\n",
    "       break\n",
    "    print('Code is Ongoing',i)"
   ]
  },
  {
   "cell_type": "code",
   "execution_count": 16,
   "id": "1f08cd54-a060-46ef-9ab3-9ed2337d4d36",
   "metadata": {},
   "outputs": [
    {
     "name": "stdout",
     "output_type": "stream",
     "text": [
      "d Code is Ongoing\n",
      "a Code is Ongoing\n",
      "t Code is Ongoing\n",
      "a Code is Ongoing\n",
      "  Code is Ongoing\n"
     ]
    }
   ],
   "source": [
    "for i in 'data science':\n",
    "     if i == 's':\n",
    "        break \n",
    "     print(i, 'Code is Ongoing')"
   ]
  },
  {
   "cell_type": "markdown",
   "id": "33371520-bb77-4beb-84b7-7ea791a60abf",
   "metadata": {},
   "source": [
    "# Continue"
   ]
  },
  {
   "cell_type": "code",
   "execution_count": 17,
   "id": "5779aed7-7495-4e10-b71e-03c3bc89b7fe",
   "metadata": {},
   "outputs": [
    {
     "data": {
      "text/plain": [
       "[1, 2, 3, 4, 5, 6, 7, 8, 9]"
      ]
     },
     "execution_count": 17,
     "metadata": {},
     "output_type": "execute_result"
    }
   ],
   "source": [
    "l"
   ]
  },
  {
   "cell_type": "code",
   "execution_count": 18,
   "id": "5fa9d72b-00b1-4541-9a0e-ace40984bca8",
   "metadata": {},
   "outputs": [
    {
     "name": "stdout",
     "output_type": "stream",
     "text": [
      "Code Exceuted till 1\n",
      "Code Exceuted till 2\n",
      "Code Exceuted till 3\n",
      "Code Exceuted till 5\n",
      "Code Exceuted till 6\n",
      "Code Exceuted till 7\n",
      "Code Exceuted till 8\n",
      "Code Exceuted till 9\n"
     ]
    }
   ],
   "source": [
    "for i in l:\n",
    "    if i == 4:\n",
    "       continue\n",
    "    print('Code Exceuted till', i)"
   ]
  },
  {
   "cell_type": "code",
   "execution_count": 21,
   "id": "b3677888-1b2f-4f92-816d-609fdc3d4b42",
   "metadata": {},
   "outputs": [
    {
     "name": "stdout",
     "output_type": "stream",
     "text": [
      "d\n",
      "t\n",
      " \n",
      "s\n",
      "c\n",
      "i\n",
      "e\n",
      "n\n",
      "c\n",
      "e\n"
     ]
    }
   ],
   "source": [
    "for i in 'data science':\n",
    "    if i == 'a':\n",
    "       continue\n",
    "    print(i)"
   ]
  },
  {
   "cell_type": "markdown",
   "id": "ca9e0424-3a49-4b32-a029-4816567785eb",
   "metadata": {},
   "source": [
    "# Pass"
   ]
  },
  {
   "cell_type": "code",
   "execution_count": 22,
   "id": "6c8574d9-3816-4d94-a180-fab8c0dd555d",
   "metadata": {},
   "outputs": [],
   "source": [
    "for i in l:\n",
    "    if i == 4:\n",
    "       pass"
   ]
  },
  {
   "cell_type": "code",
   "execution_count": 23,
   "id": "f65dd9ed-e65c-466d-93b6-eab9cc845b58",
   "metadata": {},
   "outputs": [
    {
     "ename": "SyntaxError",
     "evalue": "incomplete input (239044884.py, line 1)",
     "output_type": "error",
     "traceback": [
      "\u001b[1;36m  Cell \u001b[1;32mIn[23], line 1\u001b[1;36m\u001b[0m\n\u001b[1;33m    for i in l:\u001b[0m\n\u001b[1;37m               ^\u001b[0m\n\u001b[1;31mSyntaxError\u001b[0m\u001b[1;31m:\u001b[0m incomplete input\n"
     ]
    }
   ],
   "source": [
    "for i in l:"
   ]
  },
  {
   "cell_type": "code",
   "execution_count": 24,
   "id": "c0eb6d07-3b2b-44ea-a910-a014be335c89",
   "metadata": {},
   "outputs": [],
   "source": [
    "for i in l:\n",
    "    pass"
   ]
  },
  {
   "cell_type": "code",
   "execution_count": 25,
   "id": "7dd9ef9f-edd7-49f0-a257-bef9f043cd00",
   "metadata": {},
   "outputs": [],
   "source": [
    "if i == '03i23':\n",
    "    pass"
   ]
  },
  {
   "cell_type": "code",
   "execution_count": 26,
   "id": "a4c5f57c-690f-4dfa-9905-b27e290fb249",
   "metadata": {},
   "outputs": [
    {
     "ename": "SyntaxError",
     "evalue": "incomplete input (1233338434.py, line 1)",
     "output_type": "error",
     "traceback": [
      "\u001b[1;36m  Cell \u001b[1;32mIn[26], line 1\u001b[1;36m\u001b[0m\n\u001b[1;33m    if i == '03i23':\u001b[0m\n\u001b[1;37m                    ^\u001b[0m\n\u001b[1;31mSyntaxError\u001b[0m\u001b[1;31m:\u001b[0m incomplete input\n"
     ]
    }
   ],
   "source": [
    "if i == '03i23':\n"
   ]
  },
  {
   "cell_type": "markdown",
   "id": "3b958112-b0d9-41e6-91ad-d5d648e685e8",
   "metadata": {},
   "source": [
    "# Inbuild Funtion in Python"
   ]
  },
  {
   "cell_type": "code",
   "execution_count": 29,
   "id": "de30ee3a-a724-4778-8727-e30d03d1ffef",
   "metadata": {},
   "outputs": [
    {
     "data": {
      "text/plain": [
       "'Hello'"
      ]
     },
     "execution_count": 29,
     "metadata": {},
     "output_type": "execute_result"
    }
   ],
   "source": [
    "'hello'.capitalize()"
   ]
  },
  {
   "cell_type": "code",
   "execution_count": 30,
   "id": "8a7feff0-5672-4434-af28-2a53f72b5646",
   "metadata": {},
   "outputs": [
    {
     "data": {
      "text/plain": [
       "'  hello   '"
      ]
     },
     "execution_count": 30,
     "metadata": {},
     "output_type": "execute_result"
    }
   ],
   "source": [
    "'hello'.center(10)"
   ]
  },
  {
   "cell_type": "code",
   "execution_count": 33,
   "id": "05af6a04-d1d8-4af3-b6c7-ab28f7b3d927",
   "metadata": {},
   "outputs": [
    {
     "data": {
      "text/plain": [
       "'****h****'"
      ]
     },
     "execution_count": 33,
     "metadata": {},
     "output_type": "execute_result"
    }
   ],
   "source": [
    "'h'.center(9,'*')"
   ]
  },
  {
   "cell_type": "code",
   "execution_count": 34,
   "id": "da146f76-4705-448f-93e5-9a5b84d88de0",
   "metadata": {},
   "outputs": [
    {
     "data": {
      "text/plain": [
       "True"
      ]
     },
     "execution_count": 34,
     "metadata": {},
     "output_type": "execute_result"
    }
   ],
   "source": [
    "'hello'.islower()"
   ]
  },
  {
   "cell_type": "code",
   "execution_count": 35,
   "id": "26d36df6-b10f-46bc-b729-e0924b5a4bd4",
   "metadata": {},
   "outputs": [
    {
     "data": {
      "text/plain": [
       "False"
      ]
     },
     "execution_count": 35,
     "metadata": {},
     "output_type": "execute_result"
    }
   ],
   "source": [
    "'HELLO'.istitle()"
   ]
  },
  {
   "cell_type": "code",
   "execution_count": 37,
   "id": "21b6d8a7-50a9-4d00-8a90-a23f03d591a8",
   "metadata": {},
   "outputs": [
    {
     "data": {
      "text/plain": [
       "True"
      ]
     },
     "execution_count": 37,
     "metadata": {},
     "output_type": "execute_result"
    }
   ],
   "source": [
    "'Hello'.istitle()"
   ]
  },
  {
   "cell_type": "code",
   "execution_count": 38,
   "id": "d1667999-fcad-4f84-85fa-b996182f4ebd",
   "metadata": {},
   "outputs": [
    {
     "data": {
      "text/plain": [
       "['H', 'e', 'l', 'l', 'o']"
      ]
     },
     "execution_count": 38,
     "metadata": {},
     "output_type": "execute_result"
    }
   ],
   "source": [
    "list('Hello')"
   ]
  },
  {
   "cell_type": "code",
   "execution_count": 39,
   "id": "58b9803d-8cec-4e30-8bc3-200cca894d34",
   "metadata": {},
   "outputs": [
    {
     "data": {
      "text/plain": [
       "'120973'"
      ]
     },
     "execution_count": 39,
     "metadata": {},
     "output_type": "execute_result"
    }
   ],
   "source": [
    "'120973'"
   ]
  },
  {
   "cell_type": "code",
   "execution_count": 40,
   "id": "20a03dcd-1f0d-44d1-bd38-23bbd2e6d644",
   "metadata": {},
   "outputs": [
    {
     "data": {
      "text/plain": [
       "120973"
      ]
     },
     "execution_count": 40,
     "metadata": {},
     "output_type": "execute_result"
    }
   ],
   "source": [
    "120973"
   ]
  },
  {
   "cell_type": "code",
   "execution_count": 41,
   "id": "75ec98f1-d6db-4af6-ad57-7a9d005350b3",
   "metadata": {},
   "outputs": [
    {
     "data": {
      "text/plain": [
       "'120973'"
      ]
     },
     "execution_count": 41,
     "metadata": {},
     "output_type": "execute_result"
    }
   ],
   "source": [
    "'120973'"
   ]
  },
  {
   "cell_type": "code",
   "execution_count": 42,
   "id": "babd6646-2782-419c-99db-d10e7ced7cee",
   "metadata": {},
   "outputs": [
    {
     "data": {
      "text/plain": [
       "['1', '2', '0', '9', '7', '3']"
      ]
     },
     "execution_count": 42,
     "metadata": {},
     "output_type": "execute_result"
    }
   ],
   "source": [
    "list('120973')"
   ]
  },
  {
   "cell_type": "code",
   "execution_count": 44,
   "id": "3843f9fd-8884-4697-93c8-6bc8bad4fbde",
   "metadata": {},
   "outputs": [
    {
     "data": {
      "text/plain": [
       "['H', 'llo']"
      ]
     },
     "execution_count": 44,
     "metadata": {},
     "output_type": "execute_result"
    }
   ],
   "source": [
    "'Hello'.split('e')"
   ]
  },
  {
   "cell_type": "code",
   "execution_count": 45,
   "id": "1be61cf1-7711-4b57-94c7-446fe2a99785",
   "metadata": {},
   "outputs": [
    {
     "data": {
      "text/plain": [
       "['Today', 'we', 'are', 'going', 'to', 'learn', 'function']"
      ]
     },
     "execution_count": 45,
     "metadata": {},
     "output_type": "execute_result"
    }
   ],
   "source": [
    "'Today we are going to learn function'.split(' ')"
   ]
  },
  {
   "cell_type": "markdown",
   "id": "2f685802-73f2-491b-87ac-763658354a6a",
   "metadata": {},
   "source": [
    "# Function"
   ]
  },
  {
   "cell_type": "raw",
   "id": "494415bf-96b4-4fb8-a341-62d16ba5ea3e",
   "metadata": {},
   "source": [
    "Function is having some having block of codes\n",
    "Functions is going to perform spacefic task."
   ]
  },
  {
   "cell_type": "code",
   "execution_count": 47,
   "id": "17e53299-bf0b-46fe-a2bb-9202352162c7",
   "metadata": {},
   "outputs": [],
   "source": [
    "def hello():\n",
    "    print('Hello how are you')"
   ]
  },
  {
   "cell_type": "code",
   "execution_count": 48,
   "id": "62ee0e8f-48fd-439e-9aa2-c44295e38e7c",
   "metadata": {},
   "outputs": [
    {
     "name": "stdout",
     "output_type": "stream",
     "text": [
      "Hello how are you\n"
     ]
    }
   ],
   "source": [
    "hello()"
   ]
  },
  {
   "cell_type": "code",
   "execution_count": 49,
   "id": "1f895ba7-0f35-4a93-8f2d-0c200f1bf087",
   "metadata": {},
   "outputs": [],
   "source": [
    "def gretting():\n",
    "    print('Hello welcome to Python functions')"
   ]
  },
  {
   "cell_type": "code",
   "execution_count": null,
   "id": "c19dc010-2727-493d-87d6-8587001f8e4b",
   "metadata": {},
   "outputs": [],
   "source": []
  }
 ],
 "metadata": {
  "kernelspec": {
   "display_name": "Python 3 (ipykernel)",
   "language": "python",
   "name": "python3"
  },
  "language_info": {
   "codemirror_mode": {
    "name": "ipython",
    "version": 3
   },
   "file_extension": ".py",
   "mimetype": "text/x-python",
   "name": "python",
   "nbconvert_exporter": "python",
   "pygments_lexer": "ipython3",
   "version": "3.12.7"
  }
 },
 "nbformat": 4,
 "nbformat_minor": 5
}
