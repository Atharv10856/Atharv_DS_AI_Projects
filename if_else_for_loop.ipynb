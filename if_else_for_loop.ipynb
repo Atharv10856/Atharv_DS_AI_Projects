{
 "cells": [
  {
   "cell_type": "code",
   "execution_count": 10,
   "id": "11201d4c-3ca2-4bdb-90ef-c501cecd3e14",
   "metadata": {},
   "outputs": [],
   "source": [
    "age = 19"
   ]
  },
  {
   "cell_type": "code",
   "execution_count": 11,
   "id": "e3be4512-8cbe-4214-a94d-4b08cb712f79",
   "metadata": {},
   "outputs": [
    {
     "data": {
      "text/plain": [
       "19"
      ]
     },
     "execution_count": 11,
     "metadata": {},
     "output_type": "execute_result"
    }
   ],
   "source": [
    "age"
   ]
  },
  {
   "cell_type": "code",
   "execution_count": 12,
   "id": "2b143e3e-d267-48a5-9973-e177d16a02de",
   "metadata": {},
   "outputs": [
    {
     "name": "stdout",
     "output_type": "stream",
     "text": [
      "You can drive Car\n"
     ]
    }
   ],
   "source": [
    "if age > 18:\n",
    "    print('You can drive Car')\n",
    "else:\n",
    "    print('You are not allowed to drive car')"
   ]
  },
  {
   "cell_type": "code",
   "execution_count": 13,
   "id": "eef7c30a-6414-4b17-803b-c41a54fbe41d",
   "metadata": {},
   "outputs": [
    {
     "data": {
      "text/plain": [
       "True"
      ]
     },
     "execution_count": 13,
     "metadata": {},
     "output_type": "execute_result"
    }
   ],
   "source": [
    "age > 18"
   ]
  },
  {
   "cell_type": "code",
   "execution_count": 19,
   "id": "cf61c5be-3026-401d-b03b-d8ff454db303",
   "metadata": {},
   "outputs": [],
   "source": [
    "marks = 6"
   ]
  },
  {
   "cell_type": "code",
   "execution_count": 20,
   "id": "7a6bb9b2-5fb9-4b91-a009-d84f0a187ffb",
   "metadata": {},
   "outputs": [
    {
     "name": "stdout",
     "output_type": "stream",
     "text": [
      "fail\n"
     ]
    }
   ],
   "source": [
    "if marks > 35:\n",
    "   print('Pass')\n",
    "else:\n",
    "   print('fail')"
   ]
  },
  {
   "cell_type": "code",
   "execution_count": 21,
   "id": "7ee15d9c-4b2a-4529-bc6e-d6eba49f856f",
   "metadata": {},
   "outputs": [],
   "source": [
    "# Multiple Condetions"
   ]
  },
  {
   "cell_type": "code",
   "execution_count": 26,
   "id": "1d153069-1432-4ce8-9f81-3bf769039b7f",
   "metadata": {},
   "outputs": [],
   "source": [
    "marks = 95"
   ]
  },
  {
   "cell_type": "code",
   "execution_count": 27,
   "id": "42bdda7f-01f7-40d6-a829-2d52b1de71b6",
   "metadata": {},
   "outputs": [
    {
     "name": "stdout",
     "output_type": "stream",
     "text": [
      "A+\n"
     ]
    }
   ],
   "source": [
    "if marks > 90:\n",
    "   print('A+')\n",
    "elif marks > 70:\n",
    "   print('B')\n",
    "elif marks > 35:\n",
    "   print('C')\n",
    "else:\n",
    "   print('fail')"
   ]
  },
  {
   "cell_type": "code",
   "execution_count": 36,
   "id": "e5f42c5e-c3ca-4faf-a6c5-f075a586adf1",
   "metadata": {},
   "outputs": [],
   "source": [
    "age = 55"
   ]
  },
  {
   "cell_type": "code",
   "execution_count": 37,
   "id": "11552c97-3a00-48bc-ae00-59c9bed0df66",
   "metadata": {},
   "outputs": [
    {
     "name": "stdout",
     "output_type": "stream",
     "text": [
      "Working Person\n"
     ]
    }
   ],
   "source": [
    "if age > 60:\n",
    "    print('Aged Person')\n",
    "elif age > 30:\n",
    "    print('Working Person')\n",
    "elif age > 18:\n",
    "    print('College Student')\n",
    "else:\n",
    "    print('Child')"
   ]
  },
  {
   "cell_type": "code",
   "execution_count": 38,
   "id": "e2b99f42-1f3d-4474-9818-d069c475c930",
   "metadata": {},
   "outputs": [],
   "source": [
    "# Even or odd"
   ]
  },
  {
   "cell_type": "code",
   "execution_count": 43,
   "id": "7189d523-2bda-4e35-ac6c-1a0db75a9be5",
   "metadata": {},
   "outputs": [
    {
     "name": "stdin",
     "output_type": "stream",
     "text": [
      "Enter Number 7\n"
     ]
    },
    {
     "name": "stdout",
     "output_type": "stream",
     "text": [
      "Odd\n"
     ]
    }
   ],
   "source": [
    "num = int(input('Enter Number'))\n",
    "if num % 2 == 0:\n",
    "   print('Even')\n",
    "else:\n",
    "   print('Odd')"
   ]
  },
  {
   "cell_type": "code",
   "execution_count": 44,
   "id": "a765d51d-cce6-4d48-8d37-8e0aa1c988b3",
   "metadata": {},
   "outputs": [
    {
     "data": {
      "text/plain": [
       "1"
      ]
     },
     "execution_count": 44,
     "metadata": {},
     "output_type": "execute_result"
    }
   ],
   "source": [
    "num % 2"
   ]
  },
  {
   "cell_type": "markdown",
   "id": "911fbae8-8382-4f98-bb3c-99fa5a6eb260",
   "metadata": {},
   "source": [
    "# For loop"
   ]
  },
  {
   "cell_type": "code",
   "execution_count": 17,
   "id": "c1c2abc2-61e5-450c-82ca-980e7046b29b",
   "metadata": {},
   "outputs": [],
   "source": [
    "l = [1,2,3,4,5]"
   ]
  },
  {
   "cell_type": "code",
   "execution_count": 18,
   "id": "1bf40bbf-1467-4a98-8487-4a9c1e011d6b",
   "metadata": {},
   "outputs": [
    {
     "name": "stdout",
     "output_type": "stream",
     "text": [
      "1\n",
      "2\n",
      "3\n",
      "4\n",
      "5\n"
     ]
    }
   ],
   "source": [
    "for num in l:\n",
    "    print(num)"
   ]
  },
  {
   "cell_type": "code",
   "execution_count": 19,
   "id": "a1f4a34b-151e-4023-b8d1-99ad69e44215",
   "metadata": {},
   "outputs": [
    {
     "name": "stdout",
     "output_type": "stream",
     "text": [
      "101\n",
      "102\n",
      "103\n",
      "104\n",
      "105\n"
     ]
    }
   ],
   "source": [
    "for num in l:\n",
    "    print(num + 100)"
   ]
  },
  {
   "cell_type": "code",
   "execution_count": 20,
   "id": "a118428d-ecf7-49c8-abaf-29c68bc5d68f",
   "metadata": {},
   "outputs": [
    {
     "name": "stdout",
     "output_type": "stream",
     "text": [
      "1\n",
      "2\n",
      "3\n",
      "4\n",
      "5\n"
     ]
    }
   ],
   "source": [
    "for i in l:\n",
    "    print(i)"
   ]
  },
  {
   "cell_type": "code",
   "execution_count": 21,
   "id": "25d46def-90ed-4249-b475-1d65d97e07aa",
   "metadata": {},
   "outputs": [
    {
     "data": {
      "text/plain": [
       "[1, 2, 3, 4, 5]"
      ]
     },
     "execution_count": 21,
     "metadata": {},
     "output_type": "execute_result"
    }
   ],
   "source": [
    "l"
   ]
  },
  {
   "cell_type": "code",
   "execution_count": 22,
   "id": "464a6c97-cc67-4679-8f24-293cee9736a3",
   "metadata": {},
   "outputs": [
    {
     "name": "stdout",
     "output_type": "stream",
     "text": [
      "[1, 2, 3, 4, 5]\n",
      "[1, 2, 3, 4, 5]\n",
      "[1, 2, 3, 4, 5]\n",
      "[1, 2, 3, 4, 5]\n",
      "[1, 2, 3, 4, 5]\n"
     ]
    }
   ],
   "source": [
    "for i in l:\n",
    "    print(l)"
   ]
  },
  {
   "cell_type": "code",
   "execution_count": 23,
   "id": "32e17ed1-f0d3-4606-945c-d1bb8c1df608",
   "metadata": {},
   "outputs": [
    {
     "name": "stdout",
     "output_type": "stream",
     "text": [
      "Hello\n",
      "Hello\n",
      "Hello\n",
      "Hello\n",
      "Hello\n"
     ]
    }
   ],
   "source": [
    "for i in l:\n",
    " print('Hello')"
   ]
  },
  {
   "cell_type": "code",
   "execution_count": 29,
   "id": "eb9f7cd9-366d-4419-b4e8-44a5d3696ec9",
   "metadata": {},
   "outputs": [],
   "source": [
    "names = ['Aditya','Atharv','Ayush','Ajinkya']"
   ]
  },
  {
   "cell_type": "code",
   "execution_count": 30,
   "id": "83cc980a-3eec-4b59-865c-e93ea0d3dbad",
   "metadata": {},
   "outputs": [
    {
     "name": "stdout",
     "output_type": "stream",
     "text": [
      "Aditya\n",
      "Atharv\n",
      "Ayush\n",
      "Ajinkya\n"
     ]
    }
   ],
   "source": [
    "for i in names:\n",
    "    print(i)"
   ]
  },
  {
   "cell_type": "code",
   "execution_count": 32,
   "id": "3b3d327f-a47d-4723-8912-e6d41c025057",
   "metadata": {},
   "outputs": [
    {
     "name": "stdout",
     "output_type": "stream",
     "text": [
      "your name is Aditya\n",
      "your name is Atharv\n",
      "your name is Ayush\n",
      "your name is Ajinkya\n"
     ]
    }
   ],
   "source": [
    "for i in names:\n",
    "    print(f'your name is {i}')"
   ]
  },
  {
   "cell_type": "code",
   "execution_count": 37,
   "id": "980ba6c6-2a3d-437d-a1ed-bc41f5034ba6",
   "metadata": {},
   "outputs": [
    {
     "name": "stdout",
     "output_type": "stream",
     "text": [
      "1\n",
      "2\n",
      "3\n",
      "4\n",
      "5\n"
     ]
    }
   ],
   "source": [
    "for i in range(1,6):\n",
    "    print(i)"
   ]
  },
  {
   "cell_type": "code",
   "execution_count": 38,
   "id": "1b0f7c75-6855-422b-bac2-f46d20c662f1",
   "metadata": {},
   "outputs": [
    {
     "data": {
      "text/plain": [
       "[1, 2, 3, 4, 5]"
      ]
     },
     "execution_count": 38,
     "metadata": {},
     "output_type": "execute_result"
    }
   ],
   "source": [
    "list(range(1,6))"
   ]
  },
  {
   "cell_type": "code",
   "execution_count": 40,
   "id": "9a85c6fa-537b-4108-8060-9fcccccf078d",
   "metadata": {},
   "outputs": [
    {
     "name": "stdout",
     "output_type": "stream",
     "text": [
      "5\n",
      "6\n",
      "7\n",
      "8\n",
      "9\n",
      "10\n"
     ]
    }
   ],
   "source": [
    "for i in range(5,11):\n",
    "    print(i)"
   ]
  },
  {
   "cell_type": "code",
   "execution_count": 42,
   "id": "9bb8c97d-92a4-4bc2-823b-77349a379fc8",
   "metadata": {},
   "outputs": [
    {
     "name": "stdout",
     "output_type": "stream",
     "text": [
      "0\n",
      "1\n",
      "2\n",
      "3\n",
      "4\n"
     ]
    }
   ],
   "source": [
    "for i in range(5):\n",
    "    print(i)"
   ]
  },
  {
   "cell_type": "code",
   "execution_count": 44,
   "id": "3a522fa0-a470-4e23-aa8c-eb91971770e2",
   "metadata": {},
   "outputs": [
    {
     "name": "stdout",
     "output_type": "stream",
     "text": [
      "$\n",
      "$$\n",
      "$$$\n",
      "$$$$\n",
      "$$$$$\n"
     ]
    }
   ],
   "source": [
    "for i in range(1,6):\n",
    "    print('$' * i)"
   ]
  },
  {
   "cell_type": "code",
   "execution_count": 49,
   "id": "ae443621-dd91-4b0d-8bfc-0de2d86727a9",
   "metadata": {},
   "outputs": [
    {
     "name": "stdout",
     "output_type": "stream",
     "text": [
      "1\n",
      "3\n",
      "5\n",
      "7\n",
      "9\n",
      "11\n",
      "13\n",
      "15\n",
      "17\n",
      "19\n"
     ]
    }
   ],
   "source": [
    "for i in range(1,21,2):\n",
    "    print(i)"
   ]
  },
  {
   "cell_type": "code",
   "execution_count": 51,
   "id": "891dcaa8-698f-47bc-9966-0a93b72929c8",
   "metadata": {},
   "outputs": [
    {
     "name": "stdout",
     "output_type": "stream",
     "text": [
      "2\n",
      "4\n",
      "6\n",
      "8\n",
      "10\n",
      "12\n",
      "14\n",
      "16\n",
      "18\n",
      "20\n"
     ]
    }
   ],
   "source": [
    "for i in range(2,21,2):\n",
    "    print(i)"
   ]
  },
  {
   "cell_type": "code",
   "execution_count": 54,
   "id": "d1a187fe-f739-48e8-b510-c4ddcc83e523",
   "metadata": {},
   "outputs": [
    {
     "name": "stdout",
     "output_type": "stream",
     "text": [
      "5\n",
      "4\n",
      "3\n",
      "2\n",
      "1\n"
     ]
    }
   ],
   "source": [
    "for i in range(5,0,-1):\n",
    "    print(i)"
   ]
  },
  {
   "cell_type": "code",
   "execution_count": 57,
   "id": "53d1435d-e9f4-4dd5-b093-e25f5596065f",
   "metadata": {},
   "outputs": [
    {
     "name": "stdout",
     "output_type": "stream",
     "text": [
      "$$$$$\n",
      "$$$$\n",
      "$$$\n",
      "$$\n",
      "$\n"
     ]
    }
   ],
   "source": [
    "for i in range(5,0,-1):\n",
    "    print('$' * i)"
   ]
  },
  {
   "cell_type": "code",
   "execution_count": 58,
   "id": "c20cc613-f67c-4e0a-8df0-3107079b3801",
   "metadata": {},
   "outputs": [
    {
     "name": "stdout",
     "output_type": "stream",
     "text": [
      "*****\n",
      "****\n",
      "***\n",
      "**\n",
      "*\n"
     ]
    }
   ],
   "source": [
    "for i in range(5,0,-1):\n",
    "    print('*' * i)"
   ]
  },
  {
   "cell_type": "code",
   "execution_count": null,
   "id": "ff990ee3-75fd-4011-a3a9-c770b66b81dc",
   "metadata": {},
   "outputs": [],
   "source": []
  }
 ],
 "metadata": {
  "kernelspec": {
   "display_name": "Python 3 (ipykernel)",
   "language": "python",
   "name": "python3"
  },
  "language_info": {
   "codemirror_mode": {
    "name": "ipython",
    "version": 3
   },
   "file_extension": ".py",
   "mimetype": "text/x-python",
   "name": "python",
   "nbconvert_exporter": "python",
   "pygments_lexer": "ipython3",
   "version": "3.12.7"
  }
 },
 "nbformat": 4,
 "nbformat_minor": 5
}
