{
 "cells": [
  {
   "cell_type": "code",
   "execution_count": 1,
   "id": "7bf19aba-f192-446b-93a6-ae9cc94c511f",
   "metadata": {},
   "outputs": [],
   "source": [
    "def test(a,b,c):\n",
    "    return a,b,c"
   ]
  },
  {
   "cell_type": "code",
   "execution_count": 2,
   "id": "c02fd49f-c567-4955-bba7-db1a544bd30d",
   "metadata": {},
   "outputs": [
    {
     "data": {
      "text/plain": [
       "(1, 2, 3)"
      ]
     },
     "execution_count": 2,
     "metadata": {},
     "output_type": "execute_result"
    }
   ],
   "source": [
    "test(1,2,3)"
   ]
  },
  {
   "cell_type": "code",
   "execution_count": 3,
   "id": "22030077-7af6-46cc-b48e-3febf1ab164f",
   "metadata": {},
   "outputs": [],
   "source": [
    "def test2(*args):\n",
    "    return args"
   ]
  },
  {
   "cell_type": "code",
   "execution_count": 4,
   "id": "beb5b945-739f-48ba-b255-a7eebcefbc83",
   "metadata": {},
   "outputs": [
    {
     "data": {
      "text/plain": [
       "(1, 4, 2, 'jd', True)"
      ]
     },
     "execution_count": 4,
     "metadata": {},
     "output_type": "execute_result"
    }
   ],
   "source": [
    "test2(1,4,2,'jd', True)"
   ]
  },
  {
   "cell_type": "code",
   "execution_count": 6,
   "id": "6cb9ac88-b09f-48ed-833c-ab4708e9e2bc",
   "metadata": {},
   "outputs": [],
   "source": [
    "def test3(*args):\n",
    "    l = []\n",
    "    for i in args:\n",
    "        if type (i) == int:\n",
    "            l.append(i)\n",
    "    result = sum(l)\n",
    "    return result\n",
    "    "
   ]
  },
  {
   "cell_type": "code",
   "execution_count": 7,
   "id": "a50054cb-4b31-48ac-a614-c3c92906d395",
   "metadata": {},
   "outputs": [
    {
     "data": {
      "text/plain": [
       "7"
      ]
     },
     "execution_count": 7,
     "metadata": {},
     "output_type": "execute_result"
    }
   ],
   "source": [
    "test3(1,4,2,'jd', True)"
   ]
  },
  {
   "cell_type": "code",
   "execution_count": 8,
   "id": "5fd270ee-e0cb-44dc-ba86-714161aa915d",
   "metadata": {},
   "outputs": [],
   "source": [
    "l = [10,20,30,'Hello', [1,2,3,'Python'], True]"
   ]
  },
  {
   "cell_type": "code",
   "execution_count": 9,
   "id": "26ca7ca7-806d-468a-abe0-3bb26bbbf82f",
   "metadata": {},
   "outputs": [
    {
     "name": "stdout",
     "output_type": "stream",
     "text": [
      "10\n",
      "20\n",
      "30\n",
      "Hello\n",
      "[1, 2, 3, 'Python']\n",
      "True\n"
     ]
    }
   ],
   "source": [
    "for i in l:\n",
    "    print(i)"
   ]
  },
  {
   "cell_type": "code",
   "execution_count": 10,
   "id": "858f6cbe-1691-407e-a209-0d65242c4bba",
   "metadata": {},
   "outputs": [],
   "source": [
    "k = []\n",
    "for i in l:\n",
    "    if type(i) == int:\n",
    "       k.append(i)\n",
    "    elif type(i) == list: # now i = that nested list\n",
    "        for data in i:\n",
    "            if type(data) == int:\n",
    "               k.append(data)\n"
   ]
  },
  {
   "cell_type": "code",
   "execution_count": 11,
   "id": "64b8cb42-ba4a-4ef1-b032-13c4002a84d3",
   "metadata": {},
   "outputs": [
    {
     "data": {
      "text/plain": [
       "[10, 20, 30, 1, 2, 3]"
      ]
     },
     "execution_count": 11,
     "metadata": {},
     "output_type": "execute_result"
    }
   ],
   "source": [
    "k"
   ]
  },
  {
   "cell_type": "code",
   "execution_count": 12,
   "id": "b5546629-c45b-4fe2-b831-16145a692b3d",
   "metadata": {},
   "outputs": [
    {
     "data": {
      "text/plain": [
       "list"
      ]
     },
     "execution_count": 12,
     "metadata": {},
     "output_type": "execute_result"
    }
   ],
   "source": [
    "type([1,2])"
   ]
  },
  {
   "cell_type": "code",
   "execution_count": 16,
   "id": "c0e9ddf7-b797-43e5-814d-389ef889b95b",
   "metadata": {},
   "outputs": [],
   "source": [
    "def test3(*args):\n",
    "    k = []\n",
    "    for i in l:\n",
    "        if type(i) == int:\n",
    "           k.append(i)\n",
    "        elif type(i) == list: # now i = that nested list\n",
    "             for data in i:\n",
    "                 if type(data) == int:\n",
    "                    k.append(data)\n",
    "    return k"
   ]
  },
  {
   "cell_type": "code",
   "execution_count": 17,
   "id": "e6d86b8b-d122-4ab1-8581-318c7c4f238c",
   "metadata": {},
   "outputs": [
    {
     "data": {
      "text/plain": [
       "[10, 20, 30, 1, 2, 3]"
      ]
     },
     "execution_count": 17,
     "metadata": {},
     "output_type": "execute_result"
    }
   ],
   "source": [
    "test3(10,20,30,'Hello', [1,2,3,'Python'], True)"
   ]
  },
  {
   "cell_type": "code",
   "execution_count": 21,
   "id": "4fadf9a7-9a55-4b4c-ab57-e40ca2a9751e",
   "metadata": {},
   "outputs": [],
   "source": [
    "def test4(a):\n",
    "    for i in range(1,a+1):\n",
    "        print('*'*i)"
   ]
  },
  {
   "cell_type": "code",
   "execution_count": 22,
   "id": "a9c69878-59b7-473d-b51f-afb2047b2b9d",
   "metadata": {},
   "outputs": [
    {
     "name": "stdout",
     "output_type": "stream",
     "text": [
      "*\n",
      "**\n",
      "***\n",
      "****\n",
      "*****\n"
     ]
    }
   ],
   "source": [
    "test4(5)"
   ]
  },
  {
   "cell_type": "code",
   "execution_count": 23,
   "id": "0dbeeace-6b11-4e78-ae61-53cf443b23cd",
   "metadata": {},
   "outputs": [],
   "source": [
    "def test5(a,*args):\n",
    "    return a, args"
   ]
  },
  {
   "cell_type": "code",
   "execution_count": 24,
   "id": "e8ffa635-e56e-486f-a84f-46d8914f79c3",
   "metadata": {},
   "outputs": [
    {
     "data": {
      "text/plain": [
       "(1, (2, 3, 4, 5, 6, 7, 8))"
      ]
     },
     "execution_count": 24,
     "metadata": {},
     "output_type": "execute_result"
    }
   ],
   "source": [
    "test5(1,2,3,4,5,6,7,8)"
   ]
  },
  {
   "cell_type": "code",
   "execution_count": 26,
   "id": "66adb249-8819-4a95-b0fd-b9a302c24627",
   "metadata": {},
   "outputs": [],
   "source": [
    "def test6(a,b,c,*args):\n",
    "    return a,b,c, args"
   ]
  },
  {
   "cell_type": "code",
   "execution_count": 27,
   "id": "f907d4af-e51d-4a52-b91f-b7bf41e9aac4",
   "metadata": {},
   "outputs": [
    {
     "data": {
      "text/plain": [
       "(4, 5, 6, (7, 8, 1, 2, 3))"
      ]
     },
     "execution_count": 27,
     "metadata": {},
     "output_type": "execute_result"
    }
   ],
   "source": [
    "test6(4,5,6,7,8,1,2,3)"
   ]
  },
  {
   "cell_type": "markdown",
   "id": "f5aeb131-626a-479f-93df-31bb9ddcb0d0",
   "metadata": {},
   "source": [
    "# Kwargs"
   ]
  },
  {
   "cell_type": "code",
   "execution_count": 28,
   "id": "ac5e95f8-91d6-4bd0-9025-8221a8a16464",
   "metadata": {},
   "outputs": [],
   "source": [
    "def test7(**kwargs):\n",
    "    return kwargs"
   ]
  },
  {
   "cell_type": "code",
   "execution_count": 29,
   "id": "e3aa3329-0a37-4b34-9cd9-2d41ee3c42a1",
   "metadata": {},
   "outputs": [
    {
     "data": {
      "text/plain": [
       "{'a': 1, 'b': 2, 'c': 3}"
      ]
     },
     "execution_count": 29,
     "metadata": {},
     "output_type": "execute_result"
    }
   ],
   "source": [
    "test7(a=1,b=2,c=3)"
   ]
  },
  {
   "cell_type": "code",
   "execution_count": 35,
   "id": "aaef71ae-35f0-40fd-a936-811869f600aa",
   "metadata": {},
   "outputs": [],
   "source": [
    "def test8(a,**kwargs):\n",
    "    return a, kwargs"
   ]
  },
  {
   "cell_type": "code",
   "execution_count": 36,
   "id": "9a7afe4c-ab50-4c41-a5f4-e7864dc52296",
   "metadata": {},
   "outputs": [
    {
     "data": {
      "text/plain": [
       "(10, {'name': 'djb', 'city': 'hsbds'})"
      ]
     },
     "execution_count": 36,
     "metadata": {},
     "output_type": "execute_result"
    }
   ],
   "source": [
    "test8(10,name='djb', city= 'hsbds')"
   ]
  },
  {
   "cell_type": "code",
   "execution_count": 40,
   "id": "0b1e71cb-3a08-45d4-b36b-f1535418e999",
   "metadata": {},
   "outputs": [],
   "source": [
    "def test9(a,*args,**kwargs):\n",
    "    return a, args, kwargs"
   ]
  },
  {
   "cell_type": "code",
   "execution_count": 43,
   "id": "65bd60d0-7021-4d0c-8f31-babd0de770d4",
   "metadata": {},
   "outputs": [
    {
     "data": {
      "text/plain": [
       "(1, (10, 20, 30, 40, 50), {'q': 1, 'v': 2, 'd': 3})"
      ]
     },
     "execution_count": 43,
     "metadata": {},
     "output_type": "execute_result"
    }
   ],
   "source": [
    "test9(1,10,20,30,40,50,q=1,v=2,d=3)"
   ]
  },
  {
   "cell_type": "markdown",
   "id": "b6c5fa93-04bb-4179-8934-ac5573237719",
   "metadata": {},
   "source": [
    "# Advanced function"
   ]
  },
  {
   "cell_type": "markdown",
   "id": "502298b5-13c7-4c68-bcbe-f9199450c8b5",
   "metadata": {},
   "source": [
    "List comprehenison"
   ]
  },
  {
   "cell_type": "code",
   "execution_count": 46,
   "id": "a3269e12-e77d-4b61-b83e-adac4bab4d0e",
   "metadata": {},
   "outputs": [
    {
     "data": {
      "text/plain": [
       "[10, 20, 30, 'Hello', [1, 2, 3, 'Python'], True]"
      ]
     },
     "execution_count": 46,
     "metadata": {},
     "output_type": "execute_result"
    }
   ],
   "source": [
    "l"
   ]
  },
  {
   "cell_type": "code",
   "execution_count": 1,
   "id": "79315ea4-d424-428c-a132-47f033336d98",
   "metadata": {},
   "outputs": [],
   "source": [
    "# condetition inside list"
   ]
  },
  {
   "cell_type": "code",
   "execution_count": 2,
   "id": "f005d2d8-2831-4c74-9dfc-a9f4c2616579",
   "metadata": {},
   "outputs": [
    {
     "name": "stdout",
     "output_type": "stream",
     "text": [
      "1\n",
      "2\n",
      "3\n",
      "4\n"
     ]
    }
   ],
   "source": [
    "for i in range(1,5):\n",
    "    print(i)"
   ]
  },
  {
   "cell_type": "code",
   "execution_count": 5,
   "id": "3833f18b-3830-4b74-a68b-9a25edeaf172",
   "metadata": {},
   "outputs": [
    {
     "data": {
      "text/plain": [
       "[1, 2, 3, 4]"
      ]
     },
     "execution_count": 5,
     "metadata": {},
     "output_type": "execute_result"
    }
   ],
   "source": [
    "[i for i in range(1,5)]"
   ]
  },
  {
   "cell_type": "code",
   "execution_count": 6,
   "id": "08408a67-087f-4821-b98e-8015c13d677d",
   "metadata": {},
   "outputs": [
    {
     "data": {
      "text/plain": [
       "[2, 3, 4, 5]"
      ]
     },
     "execution_count": 6,
     "metadata": {},
     "output_type": "execute_result"
    }
   ],
   "source": [
    "[i+1 for i in range(1,5)]"
   ]
  },
  {
   "cell_type": "code",
   "execution_count": 8,
   "id": "a6b36496-e1e9-4153-9b90-8608e7d2c456",
   "metadata": {},
   "outputs": [
    {
     "name": "stdout",
     "output_type": "stream",
     "text": [
      "2\n",
      "4\n",
      "6\n",
      "8\n",
      "10\n"
     ]
    }
   ],
   "source": [
    "for i in range(1,11):\n",
    "    if i % 2 == 0:\n",
    "       print(i)"
   ]
  },
  {
   "cell_type": "code",
   "execution_count": 9,
   "id": "134154b6-4789-405f-bf08-12af3f8cd92b",
   "metadata": {},
   "outputs": [
    {
     "data": {
      "text/plain": [
       "[2, 4, 6, 8, 10]"
      ]
     },
     "execution_count": 9,
     "metadata": {},
     "output_type": "execute_result"
    }
   ],
   "source": [
    "[i for i in range(1,11) if i % 2 == 0]"
   ]
  },
  {
   "cell_type": "code",
   "execution_count": 12,
   "id": "48e1071d-4c78-4e05-a811-ba053cb8eed6",
   "metadata": {},
   "outputs": [],
   "source": [
    "# Dicitionary Comprehension"
   ]
  },
  {
   "cell_type": "code",
   "execution_count": 13,
   "id": "709c51a7-87f0-4632-a0ec-eb29a8873e54",
   "metadata": {},
   "outputs": [
    {
     "data": {
      "text/plain": [
       "{1: 1, 2: 2, 3: 3, 4: 4}"
      ]
     },
     "execution_count": 13,
     "metadata": {},
     "output_type": "execute_result"
    }
   ],
   "source": [
    "{i:i for i in range(1,5)}"
   ]
  },
  {
   "cell_type": "code",
   "execution_count": 14,
   "id": "f6e34859-5793-4720-bc6c-8bcefa08dd93",
   "metadata": {},
   "outputs": [
    {
     "data": {
      "text/plain": [
       "{1: 1, 2: 4, 3: 9, 4: 16, 5: 25}"
      ]
     },
     "execution_count": 14,
     "metadata": {},
     "output_type": "execute_result"
    }
   ],
   "source": [
    "{i:i*i for i in range(1,6)}"
   ]
  },
  {
   "cell_type": "code",
   "execution_count": 15,
   "id": "5b755db5-51a4-4ddf-ab1a-13ac08bd66cc",
   "metadata": {},
   "outputs": [
    {
     "data": {
      "text/plain": [
       "{1: 2, 2: 4, 3: 6, 4: 8, 5: 10}"
      ]
     },
     "execution_count": 15,
     "metadata": {},
     "output_type": "execute_result"
    }
   ],
   "source": [
    "{i:i+i for i in range(1,6)}"
   ]
  },
  {
   "cell_type": "markdown",
   "id": "878fdaaa-b234-474a-bdf4-7657cb1f3ff0",
   "metadata": {},
   "source": [
    "# Lambda function"
   ]
  },
  {
   "cell_type": "code",
   "execution_count": 16,
   "id": "42dd0a5f-a17d-43e6-bc6e-2d1978c9f7a0",
   "metadata": {},
   "outputs": [],
   "source": [
    "# What is lambda function"
   ]
  },
  {
   "cell_type": "code",
   "execution_count": 17,
   "id": "28a88311-865c-4b6d-ae0a-b5b71badad4a",
   "metadata": {},
   "outputs": [],
   "source": [
    "X = lambda a:a"
   ]
  },
  {
   "cell_type": "code",
   "execution_count": 18,
   "id": "362fd35b-cf9e-45b5-865d-6a43b8b7f6bb",
   "metadata": {},
   "outputs": [
    {
     "ename": "NameError",
     "evalue": "name 'X' is not defined",
     "output_type": "error",
     "traceback": [
      "\u001b[1;31m---------------------------------------------------------------------------\u001b[0m",
      "\u001b[1;31mNameError\u001b[0m                                 Traceback (most recent call last)",
      "Cell \u001b[1;32mIn[18], line 1\u001b[0m\n\u001b[1;32m----> 1\u001b[0m X(\u001b[38;5;241m10\u001b[39m)\n",
      "\u001b[1;31mNameError\u001b[0m: name 'X' is not defined"
     ]
    }
   ],
   "source": [
    "X(10)"
   ]
  },
  {
   "cell_type": "code",
   "execution_count": null,
   "id": "b9a326ae-2c51-4014-986e-dabb2e4c27c3",
   "metadata": {},
   "outputs": [],
   "source": []
  }
 ],
 "metadata": {
  "kernelspec": {
   "display_name": "Python 3 (ipykernel)",
   "language": "python",
   "name": "python3"
  },
  "language_info": {
   "codemirror_mode": {
    "name": "ipython",
    "version": 3
   },
   "file_extension": ".py",
   "mimetype": "text/x-python",
   "name": "python",
   "nbconvert_exporter": "python",
   "pygments_lexer": "ipython3",
   "version": "3.12.7"
  }
 },
 "nbformat": 4,
 "nbformat_minor": 5
}
